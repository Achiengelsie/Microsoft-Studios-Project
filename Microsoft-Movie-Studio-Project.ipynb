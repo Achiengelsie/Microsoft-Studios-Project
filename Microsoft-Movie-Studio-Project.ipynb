{
 "cells": [
  {
   "cell_type": "markdown",
   "metadata": {},
   "source": [
    "![example](images/filmstudio.jpg)"
   ]
  },
  {
   "cell_type": "markdown",
   "metadata": {},
   "source": [
    "# Microsoft Movie Studio Project\n",
    "\n",
    "**Author:** Elsie Ochieng\n",
    "***"
   ]
  },
  {
   "cell_type": "markdown",
   "metadata": {},
   "source": [
    "## Overview\n",
    "\n",
    "\n",
    "The movie industry has grown and evolved over the years and has seen an influx of numerous innovative companies that have made their mark in the entertainment landscape.Microsoft is keen on getting in on the fun and wants business recommendations on how to approach the new venture.To achieve this, data analysis was conducted on datasets from Imdb, The Numbers and Rotten Tomatoes.From the analysis done it was clear that the industry requires proper planning budget wise to make good profit, movie properties and features such as runtime are key factors to considor and who you work with in the industry is important.\n",
    "\n",
    "The following are recommended:\n",
    " - Identify popular genres and optimal movie runtimes\n",
    " - Ensure there is meticulous budgeting and preparation\n",
    " - Collaborate with the best in the business"
   ]
  },
  {
   "cell_type": "markdown",
   "metadata": {},
   "source": [
    "# Business Problem\n",
    "\n",
    "To ensure that Microsoft has the information needed to successfully enter the market exploratory data anlysis was carried out on various datasets to retrieve key business recommendations. First, budgeting and rvenues were looked into because the main goal of entering into any buiness is of course to make profit. Secondly,  movie properties and features such as runtime and popular genres were investigated as these are what separate a hit movie from others. Third was to look into who to work with in the industry as well as who the competition is. This will help Microsoft set itself apart from the rest and find unique ways to ensure they standout from the rest.\n",
    "***"
   ]
  },
  {
   "cell_type": "markdown",
   "metadata": {},
   "source": [
    "## Data Understanding\n",
    "\n",
    "The data used came from three different sources.\n",
    "\n",
    "**1. The Numbers**\n",
    "\n",
    "A website that tracks box office revenue using algorithms to also forecast incomes of film projects. The specific dataset used contains information on movies, release dates, production budgets, domestic and worldwide income all of which were target variables.\n",
    "\n",
    "**2. Rotten Tomatoes**\n",
    "\n",
    "Contains aggregates of movie reviews from critics and audiences. Implements a Tomatometer system to rate movies thus giving people information on what different critics think of a movie. The data used includes movie reviews, genres, runtimes and studios.\n",
    "\n",
    "\n",
    "**3. Internet Movie Database(IMDb)**\n",
    "\n",
    "An online database that contains information about movies, tv shows, actors, directors and other aspects of the entertainment industry. The dataset used contained tables about movies, directors, writers and other personnel related to the movies. Also contained average movie ratings and number of votes received for the ratings.\n",
    "\n",
    "\n",
    "***"
   ]
  },
  {
   "cell_type": "markdown",
   "metadata": {},
   "source": [
    "### Loading the various datasets"
   ]
  },
  {
   "cell_type": "code",
   "execution_count": 1,
   "metadata": {},
   "outputs": [],
   "source": [
    "# Import standard packages\n",
    "import pandas as pd\n",
    "import numpy as np\n",
    "import matplotlib.pyplot as plt\n",
    "import seaborn as sns\n",
    "\n",
    "%matplotlib inline"
   ]
  },
  {
   "cell_type": "code",
   "execution_count": 2,
   "metadata": {},
   "outputs": [
    {
     "data": {
      "text/html": [
       "<div>\n",
       "<style scoped>\n",
       "    .dataframe tbody tr th:only-of-type {\n",
       "        vertical-align: middle;\n",
       "    }\n",
       "\n",
       "    .dataframe tbody tr th {\n",
       "        vertical-align: top;\n",
       "    }\n",
       "\n",
       "    .dataframe thead th {\n",
       "        text-align: right;\n",
       "    }\n",
       "</style>\n",
       "<table border=\"1\" class=\"dataframe\">\n",
       "  <thead>\n",
       "    <tr style=\"text-align: right;\">\n",
       "      <th></th>\n",
       "      <th>release_date</th>\n",
       "      <th>movie</th>\n",
       "      <th>production_budget</th>\n",
       "      <th>domestic_gross</th>\n",
       "      <th>worldwide_gross</th>\n",
       "    </tr>\n",
       "    <tr>\n",
       "      <th>id</th>\n",
       "      <th></th>\n",
       "      <th></th>\n",
       "      <th></th>\n",
       "      <th></th>\n",
       "      <th></th>\n",
       "    </tr>\n",
       "  </thead>\n",
       "  <tbody>\n",
       "    <tr>\n",
       "      <th>1</th>\n",
       "      <td>Dec 18, 2009</td>\n",
       "      <td>Avatar</td>\n",
       "      <td>$425,000,000</td>\n",
       "      <td>$760,507,625</td>\n",
       "      <td>$2,776,345,279</td>\n",
       "    </tr>\n",
       "    <tr>\n",
       "      <th>2</th>\n",
       "      <td>May 20, 2011</td>\n",
       "      <td>Pirates of the Caribbean: On Stranger Tides</td>\n",
       "      <td>$410,600,000</td>\n",
       "      <td>$241,063,875</td>\n",
       "      <td>$1,045,663,875</td>\n",
       "    </tr>\n",
       "    <tr>\n",
       "      <th>3</th>\n",
       "      <td>Jun 7, 2019</td>\n",
       "      <td>Dark Phoenix</td>\n",
       "      <td>$350,000,000</td>\n",
       "      <td>$42,762,350</td>\n",
       "      <td>$149,762,350</td>\n",
       "    </tr>\n",
       "    <tr>\n",
       "      <th>4</th>\n",
       "      <td>May 1, 2015</td>\n",
       "      <td>Avengers: Age of Ultron</td>\n",
       "      <td>$330,600,000</td>\n",
       "      <td>$459,005,868</td>\n",
       "      <td>$1,403,013,963</td>\n",
       "    </tr>\n",
       "    <tr>\n",
       "      <th>5</th>\n",
       "      <td>Dec 15, 2017</td>\n",
       "      <td>Star Wars Ep. VIII: The Last Jedi</td>\n",
       "      <td>$317,000,000</td>\n",
       "      <td>$620,181,382</td>\n",
       "      <td>$1,316,721,747</td>\n",
       "    </tr>\n",
       "  </tbody>\n",
       "</table>\n",
       "</div>"
      ],
      "text/plain": [
       "    release_date                                        movie  \\\n",
       "id                                                              \n",
       "1   Dec 18, 2009                                       Avatar   \n",
       "2   May 20, 2011  Pirates of the Caribbean: On Stranger Tides   \n",
       "3    Jun 7, 2019                                 Dark Phoenix   \n",
       "4    May 1, 2015                      Avengers: Age of Ultron   \n",
       "5   Dec 15, 2017            Star Wars Ep. VIII: The Last Jedi   \n",
       "\n",
       "   production_budget domestic_gross worldwide_gross  \n",
       "id                                                   \n",
       "1       $425,000,000   $760,507,625  $2,776,345,279  \n",
       "2       $410,600,000   $241,063,875  $1,045,663,875  \n",
       "3       $350,000,000    $42,762,350    $149,762,350  \n",
       "4       $330,600,000   $459,005,868  $1,403,013,963  \n",
       "5       $317,000,000   $620,181,382  $1,316,721,747  "
      ]
     },
     "execution_count": 2,
     "metadata": {},
     "output_type": "execute_result"
    }
   ],
   "source": [
    "#The numbers(tn) dataset\n",
    "tn_df = pd.read_csv('zippedData/tn.movie_budgets.csv.gz', index_col = 0)\n",
    "tn_df.head()"
   ]
  },
  {
   "cell_type": "code",
   "execution_count": 21,
   "metadata": {},
   "outputs": [],
   "source": [
    "#IMDB dataset\n",
    "\n",
    "movie_basics_df = pd.read_csv('zippedData/imdb.title.basics.csv.gz')\n",
    "# movie_basics_df.head()\n",
    "\n",
    "movie_ratings_df = pd.read_csv('zippedData/imdb.title.ratings.csv.gz')\n",
    "# movie_ratings_df.head()\n",
    "\n",
    "movie_akas_df = pd.read_csv('zippedData/imdb.title.akas.csv.gz')\n",
    "# movie_akas_df.head()\n",
    "\n",
    "principals_df = pd.read_csv('zippedData/imdb.title.principals.csv.gz')\n",
    "# principals_df.head()\n",
    "\n",
    "crew_df = pd.read_csv('zippedData/imdb.title.crew.csv.gz')\n",
    "# crew_df.head()\n",
    "\n",
    "persons_df = pd.read_csv('zippedData/imdb.name.basics.csv.gz')\n",
    "# persons_df.head()"
   ]
  },
  {
   "cell_type": "code",
   "execution_count": 23,
   "metadata": {},
   "outputs": [
    {
     "data": {
      "text/html": [
       "<div>\n",
       "<style scoped>\n",
       "    .dataframe tbody tr th:only-of-type {\n",
       "        vertical-align: middle;\n",
       "    }\n",
       "\n",
       "    .dataframe tbody tr th {\n",
       "        vertical-align: top;\n",
       "    }\n",
       "\n",
       "    .dataframe thead th {\n",
       "        text-align: right;\n",
       "    }\n",
       "</style>\n",
       "<table border=\"1\" class=\"dataframe\">\n",
       "  <thead>\n",
       "    <tr style=\"text-align: right;\">\n",
       "      <th></th>\n",
       "      <th>id</th>\n",
       "      <th>synopsis</th>\n",
       "      <th>rating</th>\n",
       "      <th>genre</th>\n",
       "      <th>director</th>\n",
       "      <th>writer</th>\n",
       "      <th>theater_date</th>\n",
       "      <th>dvd_date</th>\n",
       "      <th>currency</th>\n",
       "      <th>box_office</th>\n",
       "      <th>runtime</th>\n",
       "      <th>studio</th>\n",
       "    </tr>\n",
       "  </thead>\n",
       "  <tbody>\n",
       "    <tr>\n",
       "      <th>0</th>\n",
       "      <td>1</td>\n",
       "      <td>This gritty, fast-paced, and innovative police...</td>\n",
       "      <td>R</td>\n",
       "      <td>Action and Adventure|Classics|Drama</td>\n",
       "      <td>William Friedkin</td>\n",
       "      <td>Ernest Tidyman</td>\n",
       "      <td>Oct 9, 1971</td>\n",
       "      <td>Sep 25, 2001</td>\n",
       "      <td>NaN</td>\n",
       "      <td>NaN</td>\n",
       "      <td>104 minutes</td>\n",
       "      <td>NaN</td>\n",
       "    </tr>\n",
       "    <tr>\n",
       "      <th>1</th>\n",
       "      <td>3</td>\n",
       "      <td>New York City, not-too-distant-future: Eric Pa...</td>\n",
       "      <td>R</td>\n",
       "      <td>Drama|Science Fiction and Fantasy</td>\n",
       "      <td>David Cronenberg</td>\n",
       "      <td>David Cronenberg|Don DeLillo</td>\n",
       "      <td>Aug 17, 2012</td>\n",
       "      <td>Jan 1, 2013</td>\n",
       "      <td>$</td>\n",
       "      <td>600,000</td>\n",
       "      <td>108 minutes</td>\n",
       "      <td>Entertainment One</td>\n",
       "    </tr>\n",
       "    <tr>\n",
       "      <th>2</th>\n",
       "      <td>5</td>\n",
       "      <td>Illeana Douglas delivers a superb performance ...</td>\n",
       "      <td>R</td>\n",
       "      <td>Drama|Musical and Performing Arts</td>\n",
       "      <td>Allison Anders</td>\n",
       "      <td>Allison Anders</td>\n",
       "      <td>Sep 13, 1996</td>\n",
       "      <td>Apr 18, 2000</td>\n",
       "      <td>NaN</td>\n",
       "      <td>NaN</td>\n",
       "      <td>116 minutes</td>\n",
       "      <td>NaN</td>\n",
       "    </tr>\n",
       "    <tr>\n",
       "      <th>3</th>\n",
       "      <td>6</td>\n",
       "      <td>Michael Douglas runs afoul of a treacherous su...</td>\n",
       "      <td>R</td>\n",
       "      <td>Drama|Mystery and Suspense</td>\n",
       "      <td>Barry Levinson</td>\n",
       "      <td>Paul Attanasio|Michael Crichton</td>\n",
       "      <td>Dec 9, 1994</td>\n",
       "      <td>Aug 27, 1997</td>\n",
       "      <td>NaN</td>\n",
       "      <td>NaN</td>\n",
       "      <td>128 minutes</td>\n",
       "      <td>NaN</td>\n",
       "    </tr>\n",
       "    <tr>\n",
       "      <th>4</th>\n",
       "      <td>7</td>\n",
       "      <td>NaN</td>\n",
       "      <td>NR</td>\n",
       "      <td>Drama|Romance</td>\n",
       "      <td>Rodney Bennett</td>\n",
       "      <td>Giles Cooper</td>\n",
       "      <td>NaN</td>\n",
       "      <td>NaN</td>\n",
       "      <td>NaN</td>\n",
       "      <td>NaN</td>\n",
       "      <td>200 minutes</td>\n",
       "      <td>NaN</td>\n",
       "    </tr>\n",
       "  </tbody>\n",
       "</table>\n",
       "</div>"
      ],
      "text/plain": [
       "   id                                           synopsis rating  \\\n",
       "0   1  This gritty, fast-paced, and innovative police...      R   \n",
       "1   3  New York City, not-too-distant-future: Eric Pa...      R   \n",
       "2   5  Illeana Douglas delivers a superb performance ...      R   \n",
       "3   6  Michael Douglas runs afoul of a treacherous su...      R   \n",
       "4   7                                                NaN     NR   \n",
       "\n",
       "                                 genre          director  \\\n",
       "0  Action and Adventure|Classics|Drama  William Friedkin   \n",
       "1    Drama|Science Fiction and Fantasy  David Cronenberg   \n",
       "2    Drama|Musical and Performing Arts    Allison Anders   \n",
       "3           Drama|Mystery and Suspense    Barry Levinson   \n",
       "4                        Drama|Romance    Rodney Bennett   \n",
       "\n",
       "                            writer  theater_date      dvd_date currency  \\\n",
       "0                   Ernest Tidyman   Oct 9, 1971  Sep 25, 2001      NaN   \n",
       "1     David Cronenberg|Don DeLillo  Aug 17, 2012   Jan 1, 2013        $   \n",
       "2                   Allison Anders  Sep 13, 1996  Apr 18, 2000      NaN   \n",
       "3  Paul Attanasio|Michael Crichton   Dec 9, 1994  Aug 27, 1997      NaN   \n",
       "4                     Giles Cooper           NaN           NaN      NaN   \n",
       "\n",
       "  box_office      runtime             studio  \n",
       "0        NaN  104 minutes                NaN  \n",
       "1    600,000  108 minutes  Entertainment One  \n",
       "2        NaN  116 minutes                NaN  \n",
       "3        NaN  128 minutes                NaN  \n",
       "4        NaN  200 minutes                NaN  "
      ]
     },
     "execution_count": 23,
     "metadata": {},
     "output_type": "execute_result"
    }
   ],
   "source": [
    "#The rotten tomatoes(rt) datasets\n",
    "rt_movieinfo_df = pd.read_csv('zippedData/rt.movie_info.tsv.gz', encoding='utf-8', delimiter='\\t')\n",
    "rt_movieinfo_df.head()\n",
    "\n",
    "rt_reviews_df = pd.read_csv('zippedData/rt.reviews.tsv.gz', encoding='iso-8859-1', delimiter='\\t')\n",
    "rt_reviews_df.head()"
   ]
  },
  {
   "cell_type": "markdown",
   "metadata": {},
   "source": [
    "## Data Preparation and Cleaning\n",
    "\n",
    "Cleaning and Preparing the data for analysis.\n",
    "\n",
    "***"
   ]
  },
  {
   "cell_type": "markdown",
   "metadata": {},
   "source": [
    "### The Numbers Dataset"
   ]
  },
  {
   "cell_type": "code",
   "execution_count": 24,
   "metadata": {},
   "outputs": [
    {
     "name": "stdout",
     "output_type": "stream",
     "text": [
      "<class 'pandas.core.frame.DataFrame'>\n",
      "Int64Index: 5782 entries, 1 to 82\n",
      "Data columns (total 5 columns):\n",
      " #   Column             Non-Null Count  Dtype \n",
      "---  ------             --------------  ----- \n",
      " 0   release_date       5782 non-null   object\n",
      " 1   movie              5782 non-null   object\n",
      " 2   production_budget  5782 non-null   object\n",
      " 3   domestic_gross     5782 non-null   object\n",
      " 4   worldwide_gross    5782 non-null   object\n",
      "dtypes: object(5)\n",
      "memory usage: 271.0+ KB\n"
     ]
    }
   ],
   "source": [
    "# Preview dataset content\n",
    "tn_df.info()"
   ]
  },
  {
   "cell_type": "markdown",
   "metadata": {},
   "source": [
    "A quick overview of he daat shows that there are no null values. Since I am keen on investigating the production budget, domestic and worldwide gross, there is need to convert the values from strings to numbers and confirm that they are all in the same currency."
   ]
  },
  {
   "cell_type": "code",
   "execution_count": 25,
   "metadata": {},
   "outputs": [
    {
     "name": "stdout",
     "output_type": "stream",
     "text": [
      "Amount is in dollars\n",
      "Amount is in dollars\n",
      "Amount is in dollars\n"
     ]
    }
   ],
   "source": [
    "#Check that production_budget, domestic_gross & worldwide-gross all in dollars\n",
    "#Use function\n",
    "# print(\"Production budget is in dollars\" + tn_df['production_budget'].startswith('$'))\n",
    "def amount_in_dollars(data,columns):\n",
    "    for col in columns:\n",
    "        if data[col].str.startswith('$').all():\n",
    "            print(\"Amount is in dollars\")\n",
    "        else:\n",
    "            print(\"Amount is not in dollars\")\n",
    "            \n",
    "amount_in_dollars(tn_df, ['production_budget', 'domestic_gross', 'worldwide_gross'])"
   ]
  },
  {
   "cell_type": "markdown",
   "metadata": {},
   "source": [
    "The amounts in all the columns are in dollars and can therefore be transformed into number datatypes without needing currency conversions. "
   ]
  },
  {
   "cell_type": "code",
   "execution_count": 26,
   "metadata": {},
   "outputs": [
    {
     "data": {
      "text/plain": [
       "release_date          object\n",
       "movie                 object\n",
       "production_budget    float64\n",
       "domestic_gross       float64\n",
       "worldwide_gross      float64\n",
       "dtype: object"
      ]
     },
     "execution_count": 26,
     "metadata": {},
     "output_type": "execute_result"
    }
   ],
   "source": [
    "#Change datatypes to float and remove characters\n",
    "def change_data_type (data,columns):\n",
    "    pd.set_option('display.float_format', '{:.2f}'.format) #To ensure all digits are displayed as required\n",
    "    \n",
    "    for col in columns:\n",
    "        data[col] = data[col].str.replace(r'[\\$,]', '').astype(float)  \n",
    "    return data.dtypes\n",
    "\n",
    "change_data_type(tn_df,['production_budget', 'domestic_gross', 'worldwide_gross'] )"
   ]
  },
  {
   "cell_type": "code",
   "execution_count": 27,
   "metadata": {},
   "outputs": [
    {
     "data": {
      "text/html": [
       "<div>\n",
       "<style scoped>\n",
       "    .dataframe tbody tr th:only-of-type {\n",
       "        vertical-align: middle;\n",
       "    }\n",
       "\n",
       "    .dataframe tbody tr th {\n",
       "        vertical-align: top;\n",
       "    }\n",
       "\n",
       "    .dataframe thead th {\n",
       "        text-align: right;\n",
       "    }\n",
       "</style>\n",
       "<table border=\"1\" class=\"dataframe\">\n",
       "  <thead>\n",
       "    <tr style=\"text-align: right;\">\n",
       "      <th></th>\n",
       "      <th>release_date</th>\n",
       "      <th>movie</th>\n",
       "      <th>production_budget</th>\n",
       "      <th>domestic_gross</th>\n",
       "      <th>worldwide_gross</th>\n",
       "    </tr>\n",
       "    <tr>\n",
       "      <th>id</th>\n",
       "      <th></th>\n",
       "      <th></th>\n",
       "      <th></th>\n",
       "      <th></th>\n",
       "      <th></th>\n",
       "    </tr>\n",
       "  </thead>\n",
       "  <tbody>\n",
       "    <tr>\n",
       "      <th>1</th>\n",
       "      <td>Dec 18, 2009</td>\n",
       "      <td>Avatar</td>\n",
       "      <td>425000000.00</td>\n",
       "      <td>760507625.00</td>\n",
       "      <td>2776345279.00</td>\n",
       "    </tr>\n",
       "    <tr>\n",
       "      <th>2</th>\n",
       "      <td>May 20, 2011</td>\n",
       "      <td>Pirates of the Caribbean: On Stranger Tides</td>\n",
       "      <td>410600000.00</td>\n",
       "      <td>241063875.00</td>\n",
       "      <td>1045663875.00</td>\n",
       "    </tr>\n",
       "    <tr>\n",
       "      <th>3</th>\n",
       "      <td>Jun 7, 2019</td>\n",
       "      <td>Dark Phoenix</td>\n",
       "      <td>350000000.00</td>\n",
       "      <td>42762350.00</td>\n",
       "      <td>149762350.00</td>\n",
       "    </tr>\n",
       "    <tr>\n",
       "      <th>4</th>\n",
       "      <td>May 1, 2015</td>\n",
       "      <td>Avengers: Age of Ultron</td>\n",
       "      <td>330600000.00</td>\n",
       "      <td>459005868.00</td>\n",
       "      <td>1403013963.00</td>\n",
       "    </tr>\n",
       "    <tr>\n",
       "      <th>5</th>\n",
       "      <td>Dec 15, 2017</td>\n",
       "      <td>Star Wars Ep. VIII: The Last Jedi</td>\n",
       "      <td>317000000.00</td>\n",
       "      <td>620181382.00</td>\n",
       "      <td>1316721747.00</td>\n",
       "    </tr>\n",
       "  </tbody>\n",
       "</table>\n",
       "</div>"
      ],
      "text/plain": [
       "    release_date                                        movie  \\\n",
       "id                                                              \n",
       "1   Dec 18, 2009                                       Avatar   \n",
       "2   May 20, 2011  Pirates of the Caribbean: On Stranger Tides   \n",
       "3    Jun 7, 2019                                 Dark Phoenix   \n",
       "4    May 1, 2015                      Avengers: Age of Ultron   \n",
       "5   Dec 15, 2017            Star Wars Ep. VIII: The Last Jedi   \n",
       "\n",
       "    production_budget  domestic_gross  worldwide_gross  \n",
       "id                                                      \n",
       "1        425000000.00    760507625.00    2776345279.00  \n",
       "2        410600000.00    241063875.00    1045663875.00  \n",
       "3        350000000.00     42762350.00     149762350.00  \n",
       "4        330600000.00    459005868.00    1403013963.00  \n",
       "5        317000000.00    620181382.00    1316721747.00  "
      ]
     },
     "execution_count": 27,
     "metadata": {},
     "output_type": "execute_result"
    }
   ],
   "source": [
    "#Check data to confirm\n",
    "tn_df.head()"
   ]
  },
  {
   "cell_type": "code",
   "execution_count": 29,
   "metadata": {},
   "outputs": [
    {
     "data": {
      "text/html": [
       "<div>\n",
       "<style scoped>\n",
       "    .dataframe tbody tr th:only-of-type {\n",
       "        vertical-align: middle;\n",
       "    }\n",
       "\n",
       "    .dataframe tbody tr th {\n",
       "        vertical-align: top;\n",
       "    }\n",
       "\n",
       "    .dataframe thead th {\n",
       "        text-align: right;\n",
       "    }\n",
       "</style>\n",
       "<table border=\"1\" class=\"dataframe\">\n",
       "  <thead>\n",
       "    <tr style=\"text-align: right;\">\n",
       "      <th></th>\n",
       "      <th>release_date</th>\n",
       "      <th>movie</th>\n",
       "      <th>production_budget</th>\n",
       "      <th>domestic_gross</th>\n",
       "      <th>worldwide_gross</th>\n",
       "    </tr>\n",
       "    <tr>\n",
       "      <th>id</th>\n",
       "      <th></th>\n",
       "      <th></th>\n",
       "      <th></th>\n",
       "      <th></th>\n",
       "      <th></th>\n",
       "    </tr>\n",
       "  </thead>\n",
       "  <tbody>\n",
       "  </tbody>\n",
       "</table>\n",
       "</div>"
      ],
      "text/plain": [
       "Empty DataFrame\n",
       "Columns: [release_date, movie, production_budget, domestic_gross, worldwide_gross]\n",
       "Index: []"
      ]
     },
     "execution_count": 29,
     "metadata": {},
     "output_type": "execute_result"
    }
   ],
   "source": [
    "#Check for duplicates\n",
    "tn_duplicates = tn_df[tn_df.duplicated()]\n",
    "tn_duplicates #NO DUPLICATES\n"
   ]
  },
  {
   "cell_type": "markdown",
   "metadata": {},
   "source": [
    "Add a new column net_revenues to analyze the returns from each movie produced."
   ]
  },
  {
   "cell_type": "code",
   "execution_count": 31,
   "metadata": {},
   "outputs": [
    {
     "data": {
      "text/html": [
       "<div>\n",
       "<style scoped>\n",
       "    .dataframe tbody tr th:only-of-type {\n",
       "        vertical-align: middle;\n",
       "    }\n",
       "\n",
       "    .dataframe tbody tr th {\n",
       "        vertical-align: top;\n",
       "    }\n",
       "\n",
       "    .dataframe thead th {\n",
       "        text-align: right;\n",
       "    }\n",
       "</style>\n",
       "<table border=\"1\" class=\"dataframe\">\n",
       "  <thead>\n",
       "    <tr style=\"text-align: right;\">\n",
       "      <th></th>\n",
       "      <th>release_date</th>\n",
       "      <th>movie</th>\n",
       "      <th>production_budget</th>\n",
       "      <th>domestic_gross</th>\n",
       "      <th>worldwide_gross</th>\n",
       "      <th>revenue</th>\n",
       "      <th>year</th>\n",
       "    </tr>\n",
       "    <tr>\n",
       "      <th>id</th>\n",
       "      <th></th>\n",
       "      <th></th>\n",
       "      <th></th>\n",
       "      <th></th>\n",
       "      <th></th>\n",
       "      <th></th>\n",
       "      <th></th>\n",
       "    </tr>\n",
       "  </thead>\n",
       "  <tbody>\n",
       "    <tr>\n",
       "      <th>1</th>\n",
       "      <td>Dec 18, 2009</td>\n",
       "      <td>Avatar</td>\n",
       "      <td>425000000.00</td>\n",
       "      <td>760507625.00</td>\n",
       "      <td>2776345279.00</td>\n",
       "      <td>2351345279.00</td>\n",
       "      <td>2009</td>\n",
       "    </tr>\n",
       "    <tr>\n",
       "      <th>2</th>\n",
       "      <td>May 20, 2011</td>\n",
       "      <td>Pirates of the Caribbean: On Stranger Tides</td>\n",
       "      <td>410600000.00</td>\n",
       "      <td>241063875.00</td>\n",
       "      <td>1045663875.00</td>\n",
       "      <td>635063875.00</td>\n",
       "      <td>2011</td>\n",
       "    </tr>\n",
       "    <tr>\n",
       "      <th>3</th>\n",
       "      <td>Jun 7, 2019</td>\n",
       "      <td>Dark Phoenix</td>\n",
       "      <td>350000000.00</td>\n",
       "      <td>42762350.00</td>\n",
       "      <td>149762350.00</td>\n",
       "      <td>-200237650.00</td>\n",
       "      <td>2019</td>\n",
       "    </tr>\n",
       "    <tr>\n",
       "      <th>4</th>\n",
       "      <td>May 1, 2015</td>\n",
       "      <td>Avengers: Age of Ultron</td>\n",
       "      <td>330600000.00</td>\n",
       "      <td>459005868.00</td>\n",
       "      <td>1403013963.00</td>\n",
       "      <td>1072413963.00</td>\n",
       "      <td>2015</td>\n",
       "    </tr>\n",
       "    <tr>\n",
       "      <th>5</th>\n",
       "      <td>Dec 15, 2017</td>\n",
       "      <td>Star Wars Ep. VIII: The Last Jedi</td>\n",
       "      <td>317000000.00</td>\n",
       "      <td>620181382.00</td>\n",
       "      <td>1316721747.00</td>\n",
       "      <td>999721747.00</td>\n",
       "      <td>2017</td>\n",
       "    </tr>\n",
       "  </tbody>\n",
       "</table>\n",
       "</div>"
      ],
      "text/plain": [
       "    release_date                                        movie  \\\n",
       "id                                                              \n",
       "1   Dec 18, 2009                                       Avatar   \n",
       "2   May 20, 2011  Pirates of the Caribbean: On Stranger Tides   \n",
       "3    Jun 7, 2019                                 Dark Phoenix   \n",
       "4    May 1, 2015                      Avengers: Age of Ultron   \n",
       "5   Dec 15, 2017            Star Wars Ep. VIII: The Last Jedi   \n",
       "\n",
       "    production_budget  domestic_gross  worldwide_gross       revenue  year  \n",
       "id                                                                          \n",
       "1        425000000.00    760507625.00    2776345279.00 2351345279.00  2009  \n",
       "2        410600000.00    241063875.00    1045663875.00  635063875.00  2011  \n",
       "3        350000000.00     42762350.00     149762350.00 -200237650.00  2019  \n",
       "4        330600000.00    459005868.00    1403013963.00 1072413963.00  2015  \n",
       "5        317000000.00    620181382.00    1316721747.00  999721747.00  2017  "
      ]
     },
     "execution_count": 31,
     "metadata": {},
     "output_type": "execute_result"
    }
   ],
   "source": [
    "#Create new column for net_income (production_budget - world_wide_gross)\n",
    "tn_df['revenue'] = tn_df['worldwide_gross'] - tn_df['production_budget']\n",
    "tn_df['year'] = tn_df['release_date'].str[-4:].astype(int)\n",
    "tn_df.head()"
   ]
  },
  {
   "cell_type": "code",
   "execution_count": 32,
   "metadata": {},
   "outputs": [
    {
     "name": "stdout",
     "output_type": "stream",
     "text": [
      "<class 'pandas.core.frame.DataFrame'>\n",
      "Int64Index: 5782 entries, 1 to 82\n",
      "Data columns (total 7 columns):\n",
      " #   Column             Non-Null Count  Dtype  \n",
      "---  ------             --------------  -----  \n",
      " 0   release_date       5782 non-null   object \n",
      " 1   movie              5782 non-null   object \n",
      " 2   production_budget  5782 non-null   float64\n",
      " 3   domestic_gross     5782 non-null   float64\n",
      " 4   worldwide_gross    5782 non-null   float64\n",
      " 5   revenue            5782 non-null   float64\n",
      " 6   year               5782 non-null   int32  \n",
      "dtypes: float64(4), int32(1), object(2)\n",
      "memory usage: 338.8+ KB\n"
     ]
    }
   ],
   "source": [
    "#Check for all columns and non-null values\n",
    "tn_df.info() "
   ]
  },
  {
   "cell_type": "markdown",
   "metadata": {},
   "source": [
    "### Rotten Tomatoes dataset"
   ]
  },
  {
   "cell_type": "markdown",
   "metadata": {},
   "source": [
    "From this dataset the goal is to obtain data on movie runtimes, their fresh ratings and related studios. First step is to combine the datasets\n",
    "A look over the values in some of the columns helped identify the columns that need to be dropped. The reviews column has written reviews that will prove difficult to analyse effectively. I also chose to drop the ratings column because the ratings by the different critics vary greatly from numbers to letter grading."
   ]
  },
  {
   "cell_type": "code",
   "execution_count": 33,
   "metadata": {},
   "outputs": [
    {
     "data": {
      "text/html": [
       "<div>\n",
       "<style scoped>\n",
       "    .dataframe tbody tr th:only-of-type {\n",
       "        vertical-align: middle;\n",
       "    }\n",
       "\n",
       "    .dataframe tbody tr th {\n",
       "        vertical-align: top;\n",
       "    }\n",
       "\n",
       "    .dataframe thead th {\n",
       "        text-align: right;\n",
       "    }\n",
       "</style>\n",
       "<table border=\"1\" class=\"dataframe\">\n",
       "  <thead>\n",
       "    <tr style=\"text-align: right;\">\n",
       "      <th></th>\n",
       "      <th>rating_info</th>\n",
       "      <th>theater_date</th>\n",
       "      <th>box_office</th>\n",
       "      <th>runtime</th>\n",
       "      <th>studio</th>\n",
       "      <th>id</th>\n",
       "      <th>fresh</th>\n",
       "      <th>critic</th>\n",
       "      <th>top_critic</th>\n",
       "      <th>date</th>\n",
       "    </tr>\n",
       "    <tr>\n",
       "      <th>id</th>\n",
       "      <th></th>\n",
       "      <th></th>\n",
       "      <th></th>\n",
       "      <th></th>\n",
       "      <th></th>\n",
       "      <th></th>\n",
       "      <th></th>\n",
       "      <th></th>\n",
       "      <th></th>\n",
       "      <th></th>\n",
       "    </tr>\n",
       "  </thead>\n",
       "  <tbody>\n",
       "    <tr>\n",
       "      <th>1</th>\n",
       "      <td>R</td>\n",
       "      <td>Oct 9, 1971</td>\n",
       "      <td>NaN</td>\n",
       "      <td>104 minutes</td>\n",
       "      <td>NaN</td>\n",
       "      <td>3</td>\n",
       "      <td>rotten</td>\n",
       "      <td>Annalee Newitz</td>\n",
       "      <td>0</td>\n",
       "      <td>May 23, 2018</td>\n",
       "    </tr>\n",
       "    <tr>\n",
       "      <th>3</th>\n",
       "      <td>R</td>\n",
       "      <td>Aug 17, 2012</td>\n",
       "      <td>600,000</td>\n",
       "      <td>108 minutes</td>\n",
       "      <td>Entertainment One</td>\n",
       "      <td>3</td>\n",
       "      <td>fresh</td>\n",
       "      <td>Daniel Kasman</td>\n",
       "      <td>0</td>\n",
       "      <td>November 16, 2017</td>\n",
       "    </tr>\n",
       "    <tr>\n",
       "      <th>5</th>\n",
       "      <td>R</td>\n",
       "      <td>Sep 13, 1996</td>\n",
       "      <td>NaN</td>\n",
       "      <td>116 minutes</td>\n",
       "      <td>NaN</td>\n",
       "      <td>3</td>\n",
       "      <td>fresh</td>\n",
       "      <td>Michelle Orange</td>\n",
       "      <td>0</td>\n",
       "      <td>September 11, 2017</td>\n",
       "    </tr>\n",
       "    <tr>\n",
       "      <th>6</th>\n",
       "      <td>R</td>\n",
       "      <td>Dec 9, 1994</td>\n",
       "      <td>NaN</td>\n",
       "      <td>128 minutes</td>\n",
       "      <td>NaN</td>\n",
       "      <td>3</td>\n",
       "      <td>rotten</td>\n",
       "      <td>Eric D. Snider</td>\n",
       "      <td>0</td>\n",
       "      <td>July 17, 2013</td>\n",
       "    </tr>\n",
       "    <tr>\n",
       "      <th>7</th>\n",
       "      <td>NR</td>\n",
       "      <td>NaN</td>\n",
       "      <td>NaN</td>\n",
       "      <td>200 minutes</td>\n",
       "      <td>NaN</td>\n",
       "      <td>3</td>\n",
       "      <td>rotten</td>\n",
       "      <td>Matt Kelemen</td>\n",
       "      <td>0</td>\n",
       "      <td>April 21, 2013</td>\n",
       "    </tr>\n",
       "  </tbody>\n",
       "</table>\n",
       "</div>"
      ],
      "text/plain": [
       "   rating_info  theater_date box_office      runtime             studio  id  \\\n",
       "id                                                                            \n",
       "1            R   Oct 9, 1971        NaN  104 minutes                NaN   3   \n",
       "3            R  Aug 17, 2012    600,000  108 minutes  Entertainment One   3   \n",
       "5            R  Sep 13, 1996        NaN  116 minutes                NaN   3   \n",
       "6            R   Dec 9, 1994        NaN  128 minutes                NaN   3   \n",
       "7           NR           NaN        NaN  200 minutes                NaN   3   \n",
       "\n",
       "     fresh           critic  top_critic                date  \n",
       "id                                                           \n",
       "1   rotten   Annalee Newitz           0        May 23, 2018  \n",
       "3    fresh    Daniel Kasman           0   November 16, 2017  \n",
       "5    fresh  Michelle Orange           0  September 11, 2017  \n",
       "6   rotten   Eric D. Snider           0       July 17, 2013  \n",
       "7   rotten     Matt Kelemen           0      April 21, 2013  "
      ]
     },
     "execution_count": 33,
     "metadata": {},
     "output_type": "execute_result"
    }
   ],
   "source": [
    "#Join rt_reviews and rt_movieinfo \n",
    "rt_combined = rt_movieinfo_df.set_index('id').join(rt_reviews_df, on = 'id', lsuffix='_info', rsuffix='_reviews' )\n",
    "\n",
    "#Drop unnecessary columns  'currency', 'box_office'\n",
    "rt_combined.drop(columns=['synopsis', 'dvd_date','review', 'rating_reviews', 'genre','director', 'writer', 'publisher', 'currency' ], inplace=True)\n",
    "rt_combined.head()"
   ]
  },
  {
   "cell_type": "markdown",
   "metadata": {},
   "source": [
    "To be able to count the movie ratings per movie, a new column was created to contain the ratings as Fresh =1 and Rotten =0 so as to be able to perform various functions on them."
   ]
  },
  {
   "cell_type": "code",
   "execution_count": 34,
   "metadata": {},
   "outputs": [],
   "source": [
    "#Create new column to represent movie ratings as boolean values, fresh == True and rotten == False\n",
    "rt_combined['fresh_rating'] = rt_reviews_df['fresh'].map({'fresh': 1, 'rotten': 0})"
   ]
  },
  {
   "cell_type": "code",
   "execution_count": 35,
   "metadata": {},
   "outputs": [],
   "source": [
    "#Replace missing values in 'critic' with Anonymous\n",
    "rt_combined['critic'].fillna('Anonymous', inplace=True)\n",
    "\n",
    "# #Replace missing values in 'publisher' with most frequent\n",
    "# frequent_publisher = rt_reviews_df['publisher'].mode()[0]\n",
    "# rt_reviews_df['publisher'].fillna(frequent_publisher, inplace=True)"
   ]
  },
  {
   "cell_type": "code",
   "execution_count": 36,
   "metadata": {},
   "outputs": [
    {
     "data": {
      "text/plain": [
       "rating_info        3\n",
       "theater_date     359\n",
       "box_office      1220\n",
       "runtime           30\n",
       "studio          1066\n",
       "id                 0\n",
       "fresh              0\n",
       "critic             0\n",
       "top_critic         0\n",
       "date               0\n",
       "fresh_rating       0\n",
       "dtype: int64"
      ]
     },
     "execution_count": 36,
     "metadata": {},
     "output_type": "execute_result"
    }
   ],
   "source": [
    "#Check columns and null values\n",
    "rt_combined.isnull().sum() #No null values\n",
    "#Preview rt_movies_df\n",
    "# rt_combined.head()"
   ]
  },
  {
   "cell_type": "markdown",
   "metadata": {},
   "source": [
    "#### Studio data"
   ]
  },
  {
   "cell_type": "code",
   "execution_count": 37,
   "metadata": {},
   "outputs": [],
   "source": [
    "# Create a copy of rt_combined and separate data on the studios to analyse competitors\n",
    "studios = rt_combined[['rating_info', 'box_office', 'studio', 'fresh_rating']].copy()\n",
    "\n",
    "#rename studio colums to studio_name\n",
    "studios.rename(columns = {'studio' : 'studio_name'}, inplace=True)\n",
    "\n",
    "#Convert 'box_office values to dtype float\n",
    "studios['box_office'] = studios['box_office'].str.replace(',', '').astype(float)\n",
    "\n",
    "#Drop null values in studio_name and box_office\n",
    "studios.dropna(subset=['studio_name', 'box_office'], inplace=True)\n"
   ]
  },
  {
   "cell_type": "code",
   "execution_count": 43,
   "metadata": {},
   "outputs": [
    {
     "data": {
      "text/plain": [
       "studio_name\n",
       "Paramount Pictures                         14\n",
       "Universal Pictures                         14\n",
       "20th Century Fox                           13\n",
       "Sony Pictures Classics                     13\n",
       "Warner Bros. Pictures                      12\n",
       "                                           ..\n",
       "DreamWorks SKG                              0\n",
       "Echolight Studios                           0\n",
       "Eros Entertainment                          0\n",
       "Film District                               0\n",
       "Fingerprint Releasing / Bleecker Street     0\n",
       "Name: fresh_rating, Length: 100, dtype: int64"
      ]
     },
     "execution_count": 43,
     "metadata": {},
     "output_type": "execute_result"
    }
   ],
   "source": [
    "#Group by studio_name and sum of  ratings\n",
    "studios.groupby(['studio_name'])['fresh_rating'].sum().nlargest(100)"
   ]
  },
  {
   "cell_type": "markdown",
   "metadata": {},
   "source": [
    "Some of the studios appear to have been entered separately despite all being under one company. These values were consolidated."
   ]
  },
  {
   "cell_type": "code",
   "execution_count": 44,
   "metadata": {},
   "outputs": [],
   "source": [
    "#All paramount studios to be under Paramount Global\n",
    "studios['studio_name'] = studios['studio_name'].replace(['Paramount Pictures', 'Paramount Vantage', 'Paramount classics'], 'Paramount Global')\n",
    "\n",
    "#Warner Bros all under same studio\n",
    "studios['studio_name'] = studios['studio_name'].replace(['WARNER BROTHERS PICTURES', 'Warner Bros. Pictures'], 'Warner Bros.')\n",
    "\n",
    "#Combine lionsgate and Lions Gate Films\n",
    "studios['studio_name'] = studios['studio_name'].replace(['Lionsgate', 'Lions Gate Releasing', 'Lionsgate Films'], 'Lions Gate Films')\n",
    "\n",
    "#Fox Search light and Fox Searchlight Pictures\n",
    "studios['studio_name'] = studios['studio_name'].replace('Fox Searchlight', 'Fox Searchlight Pictures')\n",
    "\n",
    "#Universal studio and Universal Pictures\n",
    "studios['studio_name'] = studios['studio_name'].replace('Universal Studios', 'Universal Pictures')\n",
    "\n",
    "#Sony Pictures Entertainment and Sony Pictures\n",
    "studios['studio_name'] = studios['studio_name'].replace(['Sony Pictures Classics', 'Sony Pictures Entertainment'], 'Sony Pictures')"
   ]
  },
  {
   "cell_type": "markdown",
   "metadata": {},
   "source": [
    "#### Movie Runtime Data"
   ]
  },
  {
   "cell_type": "code",
   "execution_count": 46,
   "metadata": {},
   "outputs": [],
   "source": [
    "# Create a copy of rt_combined and select data to analyse runtimes\n",
    "movie_runtimes = rt_combined[['rating_info', 'box_office', 'runtime', 'fresh_rating', 'date']].copy()\n",
    "\n",
    "#Change runtime to int and remove 'minutes'\n",
    "movie_runtimes['runtime'] = rt_combined['runtime'].str.replace('minutes', '')\n",
    "\n",
    "#Fill 'runtime' with median runtime\n",
    "median_runtime = movie_runtimes['runtime'].median()\n",
    "movie_runtimes['runtime'] = movie_runtimes['runtime'].fillna(median_runtime).astype(int)"
   ]
  },
  {
   "cell_type": "markdown",
   "metadata": {},
   "source": [
    "### IMDB Dataset\n",
    "While loading the data we saw that there are several tables in the database. those tables are movie_basics, directors, known_for, movie_akas, movie_ratings, persons, principals and writers. \n",
    "\n",
    "#### Genre Data\n"
   ]
  },
  {
   "cell_type": "code",
   "execution_count": 49,
   "metadata": {},
   "outputs": [
    {
     "name": "stdout",
     "output_type": "stream",
     "text": [
      "<class 'pandas.core.frame.DataFrame'>\n",
      "RangeIndex: 146144 entries, 0 to 146143\n",
      "Data columns (total 8 columns):\n",
      " #   Column           Non-Null Count   Dtype  \n",
      "---  ------           --------------   -----  \n",
      " 0   tconst           146144 non-null  object \n",
      " 1   primary_title    146144 non-null  object \n",
      " 2   original_title   146123 non-null  object \n",
      " 3   start_year       146144 non-null  int64  \n",
      " 4   runtime_minutes  114405 non-null  float64\n",
      " 5   genres           140736 non-null  object \n",
      " 6   averagerating    73856 non-null   float64\n",
      " 7   numvotes         73856 non-null   float64\n",
      "dtypes: float64(3), int64(1), object(4)\n",
      "memory usage: 8.9+ MB\n"
     ]
    }
   ],
   "source": [
    "#Join movie_basics_df and movie_ratings_df\n",
    "#Join movie_directors and movies_df on movie_id\n",
    "# movies_df = movies_df.join(movie_directors.set_index('movie_id'), on='movie_id')\n",
    "\n",
    "ratings_basics_df = movie_basics_df.join(movie_ratings_df.set_index('tconst'), on = 'tconst')\n",
    "ratings_basics_df.info()"
   ]
  },
  {
   "cell_type": "code",
   "execution_count": 50,
   "metadata": {},
   "outputs": [],
   "source": [
    "#Fill missing runtime minutes with median runtime\n",
    "median_runtime = ratings_basics_df['runtime_minutes'].median() #Calculate the median runtime\n",
    "ratings_basics_df['runtime_minutes'].fillna(median_runtime, inplace=True)\n",
    "\n",
    "#Drop the rows with no genre\n",
    "ratings_basics_df.dropna(subset=['genres'], inplace=True)"
   ]
  },
  {
   "cell_type": "code",
   "execution_count": 51,
   "metadata": {},
   "outputs": [
    {
     "data": {
      "text/plain": [
       "tconst                 0\n",
       "primary_title          0\n",
       "original_title         2\n",
       "start_year             0\n",
       "runtime_minutes        0\n",
       "genres                 0\n",
       "averagerating      67684\n",
       "numvotes           67684\n",
       "dtype: int64"
      ]
     },
     "execution_count": 51,
     "metadata": {},
     "output_type": "execute_result"
    }
   ],
   "source": [
    "#Sort the data by number of votes.\n",
    "ratings_basics_df.sort_values(by='numvotes', ascending=False, inplace = True)\n",
    "\n",
    "#Determine criteria for choosing how many movies to work with\n",
    "movie_number = (ratings_basics_df['numvotes']>=50).sum() #There are 36751 movies with more than 50 votes\n",
    "movie_number\n",
    "\n",
    "#Drop all movies with less than 50 votes\n",
    "ratings_basics_df.drop(ratings_basics_df[ ratings_basics_df['numvotes']<50].index, inplace=True)\n",
    "\n",
    "#Identify columns with null values\n",
    "ratings_basics_df.isnull().sum()"
   ]
  },
  {
   "cell_type": "markdown",
   "metadata": {},
   "source": [
    "To be able to analyse the most popular movies by genres and ratings I chose to select the top 30,000 movies from the dataset of over 70,000 movies. This was done by selecting those with the highest number of votes."
   ]
  },
  {
   "cell_type": "markdown",
   "metadata": {},
   "source": [
    "Separate the Genres into separate columns to make analysis easier"
   ]
  },
  {
   "cell_type": "code",
   "execution_count": 54,
   "metadata": {},
   "outputs": [
    {
     "data": {
      "text/html": [
       "<div>\n",
       "<style scoped>\n",
       "    .dataframe tbody tr th:only-of-type {\n",
       "        vertical-align: middle;\n",
       "    }\n",
       "\n",
       "    .dataframe tbody tr th {\n",
       "        vertical-align: top;\n",
       "    }\n",
       "\n",
       "    .dataframe thead th {\n",
       "        text-align: right;\n",
       "    }\n",
       "</style>\n",
       "<table border=\"1\" class=\"dataframe\">\n",
       "  <thead>\n",
       "    <tr style=\"text-align: right;\">\n",
       "      <th></th>\n",
       "      <th>tconst</th>\n",
       "      <th>primary_title</th>\n",
       "      <th>start_year</th>\n",
       "      <th>averagerating</th>\n",
       "      <th>numvotes</th>\n",
       "      <th>Action</th>\n",
       "      <th>Adult</th>\n",
       "      <th>Adventure</th>\n",
       "      <th>Animation</th>\n",
       "      <th>Biography</th>\n",
       "      <th>...</th>\n",
       "      <th>News</th>\n",
       "      <th>Reality-TV</th>\n",
       "      <th>Romance</th>\n",
       "      <th>Sci-Fi</th>\n",
       "      <th>Short</th>\n",
       "      <th>Sport</th>\n",
       "      <th>Talk-Show</th>\n",
       "      <th>Thriller</th>\n",
       "      <th>War</th>\n",
       "      <th>Western</th>\n",
       "    </tr>\n",
       "  </thead>\n",
       "  <tbody>\n",
       "    <tr>\n",
       "      <th>7066</th>\n",
       "      <td>tt1375666</td>\n",
       "      <td>Inception</td>\n",
       "      <td>2010</td>\n",
       "      <td>8.80</td>\n",
       "      <td>1841066.00</td>\n",
       "      <td>1</td>\n",
       "      <td>0</td>\n",
       "      <td>1</td>\n",
       "      <td>0</td>\n",
       "      <td>0</td>\n",
       "      <td>...</td>\n",
       "      <td>0</td>\n",
       "      <td>0</td>\n",
       "      <td>0</td>\n",
       "      <td>1</td>\n",
       "      <td>0</td>\n",
       "      <td>0</td>\n",
       "      <td>0</td>\n",
       "      <td>0</td>\n",
       "      <td>0</td>\n",
       "      <td>0</td>\n",
       "    </tr>\n",
       "    <tr>\n",
       "      <th>6900</th>\n",
       "      <td>tt1345836</td>\n",
       "      <td>The Dark Knight Rises</td>\n",
       "      <td>2012</td>\n",
       "      <td>8.40</td>\n",
       "      <td>1387769.00</td>\n",
       "      <td>1</td>\n",
       "      <td>0</td>\n",
       "      <td>0</td>\n",
       "      <td>0</td>\n",
       "      <td>0</td>\n",
       "      <td>...</td>\n",
       "      <td>0</td>\n",
       "      <td>0</td>\n",
       "      <td>0</td>\n",
       "      <td>0</td>\n",
       "      <td>0</td>\n",
       "      <td>0</td>\n",
       "      <td>0</td>\n",
       "      <td>1</td>\n",
       "      <td>0</td>\n",
       "      <td>0</td>\n",
       "    </tr>\n",
       "    <tr>\n",
       "      <th>311</th>\n",
       "      <td>tt0816692</td>\n",
       "      <td>Interstellar</td>\n",
       "      <td>2014</td>\n",
       "      <td>8.60</td>\n",
       "      <td>1299334.00</td>\n",
       "      <td>0</td>\n",
       "      <td>0</td>\n",
       "      <td>1</td>\n",
       "      <td>0</td>\n",
       "      <td>0</td>\n",
       "      <td>...</td>\n",
       "      <td>0</td>\n",
       "      <td>0</td>\n",
       "      <td>0</td>\n",
       "      <td>1</td>\n",
       "      <td>0</td>\n",
       "      <td>0</td>\n",
       "      <td>0</td>\n",
       "      <td>0</td>\n",
       "      <td>0</td>\n",
       "      <td>0</td>\n",
       "    </tr>\n",
       "    <tr>\n",
       "      <th>20342</th>\n",
       "      <td>tt1853728</td>\n",
       "      <td>Django Unchained</td>\n",
       "      <td>2012</td>\n",
       "      <td>8.40</td>\n",
       "      <td>1211405.00</td>\n",
       "      <td>0</td>\n",
       "      <td>0</td>\n",
       "      <td>0</td>\n",
       "      <td>0</td>\n",
       "      <td>0</td>\n",
       "      <td>...</td>\n",
       "      <td>0</td>\n",
       "      <td>0</td>\n",
       "      <td>0</td>\n",
       "      <td>0</td>\n",
       "      <td>0</td>\n",
       "      <td>0</td>\n",
       "      <td>0</td>\n",
       "      <td>0</td>\n",
       "      <td>0</td>\n",
       "      <td>1</td>\n",
       "    </tr>\n",
       "    <tr>\n",
       "      <th>356</th>\n",
       "      <td>tt0848228</td>\n",
       "      <td>The Avengers</td>\n",
       "      <td>2012</td>\n",
       "      <td>8.10</td>\n",
       "      <td>1183655.00</td>\n",
       "      <td>1</td>\n",
       "      <td>0</td>\n",
       "      <td>1</td>\n",
       "      <td>0</td>\n",
       "      <td>0</td>\n",
       "      <td>...</td>\n",
       "      <td>0</td>\n",
       "      <td>0</td>\n",
       "      <td>0</td>\n",
       "      <td>1</td>\n",
       "      <td>0</td>\n",
       "      <td>0</td>\n",
       "      <td>0</td>\n",
       "      <td>0</td>\n",
       "      <td>0</td>\n",
       "      <td>0</td>\n",
       "    </tr>\n",
       "  </tbody>\n",
       "</table>\n",
       "<p>5 rows × 32 columns</p>\n",
       "</div>"
      ],
      "text/plain": [
       "          tconst          primary_title  start_year  averagerating   numvotes  \\\n",
       "7066   tt1375666              Inception        2010           8.80 1841066.00   \n",
       "6900   tt1345836  The Dark Knight Rises        2012           8.40 1387769.00   \n",
       "311    tt0816692           Interstellar        2014           8.60 1299334.00   \n",
       "20342  tt1853728       Django Unchained        2012           8.40 1211405.00   \n",
       "356    tt0848228           The Avengers        2012           8.10 1183655.00   \n",
       "\n",
       "       Action  Adult  Adventure  Animation  Biography  ...  News  Reality-TV  \\\n",
       "7066        1      0          1          0          0  ...     0           0   \n",
       "6900        1      0          0          0          0  ...     0           0   \n",
       "311         0      0          1          0          0  ...     0           0   \n",
       "20342       0      0          0          0          0  ...     0           0   \n",
       "356         1      0          1          0          0  ...     0           0   \n",
       "\n",
       "       Romance  Sci-Fi  Short  Sport  Talk-Show  Thriller  War  Western  \n",
       "7066         0       1      0      0          0         0    0        0  \n",
       "6900         0       0      0      0          0         1    0        0  \n",
       "311          0       1      0      0          0         0    0        0  \n",
       "20342        0       0      0      0          0         0    0        1  \n",
       "356          0       1      0      0          0         0    0        0  \n",
       "\n",
       "[5 rows x 32 columns]"
      ]
     },
     "execution_count": 54,
     "metadata": {},
     "output_type": "execute_result"
    }
   ],
   "source": [
    "#Dummy variables for the genres is created\n",
    "genres_sep = ratings_basics_df['genres'].str.get_dummies(sep=',')\n",
    "\n",
    "#Select the columns to be put in the genres dataframe\n",
    "genredf_cols = ['tconst', 'primary_title', 'start_year', 'averagerating', 'numvotes']\n",
    "genredf_colsdf = ratings_basics_df[genredf_cols] #concat only works with series and dataframes\n",
    "\n",
    "#Join the dummies and other columns to create the genres_df\n",
    "genres_df = pd.concat([genredf_colsdf, genres_sep], axis=1)\n",
    "genres_df.head(5)"
   ]
  },
  {
   "cell_type": "markdown",
   "metadata": {},
   "source": [
    "#### Directors data"
   ]
  },
  {
   "cell_type": "code",
   "execution_count": 58,
   "metadata": {},
   "outputs": [
    {
     "data": {
      "text/html": [
       "<div>\n",
       "<style scoped>\n",
       "    .dataframe tbody tr th:only-of-type {\n",
       "        vertical-align: middle;\n",
       "    }\n",
       "\n",
       "    .dataframe tbody tr th {\n",
       "        vertical-align: top;\n",
       "    }\n",
       "\n",
       "    .dataframe thead th {\n",
       "        text-align: right;\n",
       "    }\n",
       "</style>\n",
       "<table border=\"1\" class=\"dataframe\">\n",
       "  <thead>\n",
       "    <tr style=\"text-align: right;\">\n",
       "      <th></th>\n",
       "      <th>title_id</th>\n",
       "      <th>ordering</th>\n",
       "      <th>title</th>\n",
       "      <th>region</th>\n",
       "      <th>language</th>\n",
       "      <th>types</th>\n",
       "      <th>attributes</th>\n",
       "      <th>is_original_title</th>\n",
       "    </tr>\n",
       "  </thead>\n",
       "  <tbody>\n",
       "    <tr>\n",
       "      <th>12</th>\n",
       "      <td>tt0369610</td>\n",
       "      <td>21</td>\n",
       "      <td>Jurassic World 3D</td>\n",
       "      <td>US</td>\n",
       "      <td>NaN</td>\n",
       "      <td>NaN</td>\n",
       "      <td>3-D version</td>\n",
       "      <td>0.00</td>\n",
       "    </tr>\n",
       "    <tr>\n",
       "      <th>20</th>\n",
       "      <td>tt0369610</td>\n",
       "      <td>29</td>\n",
       "      <td>Jurassic World</td>\n",
       "      <td>US</td>\n",
       "      <td>NaN</td>\n",
       "      <td>NaN</td>\n",
       "      <td>NaN</td>\n",
       "      <td>0.00</td>\n",
       "    </tr>\n",
       "    <tr>\n",
       "      <th>21</th>\n",
       "      <td>tt0369610</td>\n",
       "      <td>2</td>\n",
       "      <td>Ebb Tide</td>\n",
       "      <td>US</td>\n",
       "      <td>NaN</td>\n",
       "      <td>NaN</td>\n",
       "      <td>fake working title</td>\n",
       "      <td>0.00</td>\n",
       "    </tr>\n",
       "    <tr>\n",
       "      <th>28</th>\n",
       "      <td>tt0369610</td>\n",
       "      <td>36</td>\n",
       "      <td>Jurassic Park IV</td>\n",
       "      <td>US</td>\n",
       "      <td>NaN</td>\n",
       "      <td>working</td>\n",
       "      <td>NaN</td>\n",
       "      <td>0.00</td>\n",
       "    </tr>\n",
       "    <tr>\n",
       "      <th>37</th>\n",
       "      <td>tt0369610</td>\n",
       "      <td>44</td>\n",
       "      <td>Jurassic Park 4</td>\n",
       "      <td>US</td>\n",
       "      <td>NaN</td>\n",
       "      <td>NaN</td>\n",
       "      <td>informal alternative title</td>\n",
       "      <td>0.00</td>\n",
       "    </tr>\n",
       "  </tbody>\n",
       "</table>\n",
       "</div>"
      ],
      "text/plain": [
       "     title_id  ordering              title region language    types  \\\n",
       "12  tt0369610        21  Jurassic World 3D     US      NaN      NaN   \n",
       "20  tt0369610        29     Jurassic World     US      NaN      NaN   \n",
       "21  tt0369610         2           Ebb Tide     US      NaN      NaN   \n",
       "28  tt0369610        36   Jurassic Park IV     US      NaN  working   \n",
       "37  tt0369610        44    Jurassic Park 4     US      NaN      NaN   \n",
       "\n",
       "                    attributes  is_original_title  \n",
       "12                 3-D version               0.00  \n",
       "20                         NaN               0.00  \n",
       "21          fake working title               0.00  \n",
       "28                         NaN               0.00  \n",
       "37  informal alternative title               0.00  "
      ]
     },
     "execution_count": 58,
     "metadata": {},
     "output_type": "execute_result"
    }
   ],
   "source": [
    "movie_ratings_df.head()\n",
    "movie_titles.head()"
   ]
  },
  {
   "cell_type": "code",
   "execution_count": 77,
   "metadata": {},
   "outputs": [
    {
     "data": {
      "text/plain": [
       "tconst                0\n",
       "title                 0\n",
       "averagerating         0\n",
       "numvotes              0\n",
       "nconst                0\n",
       "primary_name          0\n",
       "primary_profession    0\n",
       "dtype: int64"
      ]
     },
     "execution_count": 77,
     "metadata": {},
     "output_type": "execute_result"
    }
   ],
   "source": [
    "#Create movie_akas_df copy and filter to US region\n",
    "movie_titles = movie_akas_df[movie_akas_df['region'] == 'US'].drop_duplicates(subset=['title']).copy()\n",
    "\n",
    "#Add movie ratings to df and rename\n",
    "# movies_df = movie_titles.join(movie_ratings_df.set_index('tconst'), on='tconst')\n",
    "\n",
    "# Merge the two DataFrames on the different column names and keep all columns\n",
    "movies_df = movie_titles.merge(movie_ratings_df, left_on='title_id', right_on='tconst', how='left')\n",
    "\n",
    "# #Select 'tconst', 'title','averagerating' and 'numvotes' columns \n",
    "movies_df = movies_df[['tconst', 'title','averagerating', 'numvotes']]\n",
    "\n",
    "# #Obtain the names of directors from principals_df\n",
    "movie_directors = principals_df[principals_df['category'] == 'director']\n",
    "\n",
    "# #Join movie_directors and movies_df on 'tconst'\n",
    "movies_df = movies_df.join(movie_directors.set_index('tconst'), on='tconst')\n",
    "\n",
    "# #Join persons_df and movies_df on nconst\n",
    "movies_df = movies_df.join(persons_df.set_index('nconst'), on='nconst')\n",
    "\n",
    "# #Create final df with 'movie_id', 'title','averagerating', 'numvotes', 'person_id','primary_name' and 'primary_profession' columns\n",
    "directors_df = movies_df[['tconst', 'title','averagerating', 'numvotes', 'nconst','primary_name', 'primary_profession' ]].copy()\n",
    "\n",
    "# #Drop null values\n",
    "directors_df.dropna(subset=['primary_name', 'averagerating', 'primary_profession'], inplace=True)\n",
    "\n",
    "directors_df.isnull().sum() #No null values"
   ]
  },
  {
   "cell_type": "code",
   "execution_count": 79,
   "metadata": {},
   "outputs": [],
   "source": [
    "# Rename 'tconst' and 'nconst'\n",
    "directors_df.rename(columns={'tconst': 'movie_id', 'nconst': 'person_id'}, inplace=True)"
   ]
  },
  {
   "cell_type": "code",
   "execution_count": 82,
   "metadata": {},
   "outputs": [
    {
     "data": {
      "text/html": [
       "<div>\n",
       "<style scoped>\n",
       "    .dataframe tbody tr th:only-of-type {\n",
       "        vertical-align: middle;\n",
       "    }\n",
       "\n",
       "    .dataframe tbody tr th {\n",
       "        vertical-align: top;\n",
       "    }\n",
       "\n",
       "    .dataframe thead th {\n",
       "        text-align: right;\n",
       "    }\n",
       "</style>\n",
       "<table border=\"1\" class=\"dataframe\">\n",
       "  <thead>\n",
       "    <tr style=\"text-align: right;\">\n",
       "      <th></th>\n",
       "      <th>primary_name</th>\n",
       "      <th>averagerating</th>\n",
       "      <th>numvotes</th>\n",
       "    </tr>\n",
       "  </thead>\n",
       "  <tbody>\n",
       "    <tr>\n",
       "      <th>0</th>\n",
       "      <td>Chad Carpenter</td>\n",
       "      <td>10.00</td>\n",
       "      <td>5.00</td>\n",
       "    </tr>\n",
       "    <tr>\n",
       "      <th>1</th>\n",
       "      <td>Loreto Di Cesare</td>\n",
       "      <td>10.00</td>\n",
       "      <td>8.00</td>\n",
       "    </tr>\n",
       "    <tr>\n",
       "      <th>2</th>\n",
       "      <td>Tristan David Luciotti</td>\n",
       "      <td>10.00</td>\n",
       "      <td>6.00</td>\n",
       "    </tr>\n",
       "    <tr>\n",
       "      <th>3</th>\n",
       "      <td>Lindsay Thompson</td>\n",
       "      <td>10.00</td>\n",
       "      <td>7.00</td>\n",
       "    </tr>\n",
       "    <tr>\n",
       "      <th>4</th>\n",
       "      <td>Hamid Benamra</td>\n",
       "      <td>9.80</td>\n",
       "      <td>6.00</td>\n",
       "    </tr>\n",
       "  </tbody>\n",
       "</table>\n",
       "</div>"
      ],
      "text/plain": [
       "             primary_name  averagerating  numvotes\n",
       "0          Chad Carpenter          10.00      5.00\n",
       "1        Loreto Di Cesare          10.00      8.00\n",
       "2  Tristan David Luciotti          10.00      6.00\n",
       "3        Lindsay Thompson          10.00      7.00\n",
       "4           Hamid Benamra           9.80      6.00"
      ]
     },
     "execution_count": 82,
     "metadata": {},
     "output_type": "execute_result"
    }
   ],
   "source": [
    "# Group by 'primary_name' and calculate mean average rating and number of votes for each director\n",
    "top_directors = directors_df.groupby(['primary_name'])[['averagerating', 'numvotes']].mean()\n",
    "\n",
    "# Select the top 30 directors based on average rating\n",
    "top_directors = top_directors.nlargest(30, columns='averagerating')\n",
    "\n",
    "# Sort by 'averagerating' in descending order\n",
    "top_directors = top_directors.sort_values(by='averagerating', ascending=False).reset_index()\n",
    "\n",
    "top_directors.head()"
   ]
  },
  {
   "cell_type": "markdown",
   "metadata": {},
   "source": [
    "## Data Modeling"
   ]
  },
  {
   "cell_type": "markdown",
   "metadata": {},
   "source": [
    "### Budgets and Profits"
   ]
  },
  {
   "cell_type": "markdown",
   "metadata": {},
   "source": [
    "***What are the most profitable movies and how much did the spend?*** \n",
    "Answering this question will enable us find out how much Microsoft should expect to spend if they intend to make good profit from their Movie Studio."
   ]
  },
  {
   "cell_type": "code",
   "execution_count": 84,
   "metadata": {},
   "outputs": [
    {
     "data": {
      "text/plain": [
       "1915"
      ]
     },
     "execution_count": 84,
     "metadata": {},
     "output_type": "execute_result"
    }
   ],
   "source": [
    "# Create a df for movies that made profit\n",
    "profitable_moviesdf = tn_df.loc[tn_df['revenue'] > 0].copy()\n",
    "#profitable_moviesdf.shape\n",
    "profitable_moviesdf['year'].min()\n",
    "# profitable_moviesdf"
   ]
  },
  {
   "cell_type": "markdown",
   "metadata": {},
   "source": [
    "From this we identify that there are 3657 movies from the initial dataset that were profitable and they were released from the year 1915 - 2019. While calculating budgets and Profits it is important to take into account the profit margin so as to better understand what movies performed best profit wise."
   ]
  },
  {
   "cell_type": "code",
   "execution_count": 86,
   "metadata": {},
   "outputs": [],
   "source": [
    "#Create profit margin column\n",
    "profitable_moviesdf['profit_margin'] = ((profitable_moviesdf['revenue'] - profitable_moviesdf['production_budget']) / profitable_moviesdf['revenue']) * 100"
   ]
  },
  {
   "cell_type": "code",
   "execution_count": 87,
   "metadata": {},
   "outputs": [
    {
     "data": {
      "text/html": [
       "<div>\n",
       "<style scoped>\n",
       "    .dataframe tbody tr th:only-of-type {\n",
       "        vertical-align: middle;\n",
       "    }\n",
       "\n",
       "    .dataframe tbody tr th {\n",
       "        vertical-align: top;\n",
       "    }\n",
       "\n",
       "    .dataframe thead th {\n",
       "        text-align: right;\n",
       "    }\n",
       "</style>\n",
       "<table border=\"1\" class=\"dataframe\">\n",
       "  <thead>\n",
       "    <tr style=\"text-align: right;\">\n",
       "      <th></th>\n",
       "      <th>production_budget</th>\n",
       "      <th>domestic_gross</th>\n",
       "      <th>worldwide_gross</th>\n",
       "      <th>revenue</th>\n",
       "      <th>year</th>\n",
       "      <th>profit_margin</th>\n",
       "    </tr>\n",
       "  </thead>\n",
       "  <tbody>\n",
       "    <tr>\n",
       "      <th>count</th>\n",
       "      <td>3657.00</td>\n",
       "      <td>3657.00</td>\n",
       "      <td>3657.00</td>\n",
       "      <td>3657.00</td>\n",
       "      <td>3657.00</td>\n",
       "      <td>3657.00</td>\n",
       "    </tr>\n",
       "    <tr>\n",
       "      <th>mean</th>\n",
       "      <td>38447721.79</td>\n",
       "      <td>62587298.34</td>\n",
       "      <td>138943577.51</td>\n",
       "      <td>100495855.72</td>\n",
       "      <td>2002.93</td>\n",
       "      <td>-365.17</td>\n",
       "    </tr>\n",
       "    <tr>\n",
       "      <th>std</th>\n",
       "      <td>47453605.88</td>\n",
       "      <td>78270587.17</td>\n",
       "      <td>204789444.00</td>\n",
       "      <td>170733189.29</td>\n",
       "      <td>13.81</td>\n",
       "      <td>7616.34</td>\n",
       "    </tr>\n",
       "    <tr>\n",
       "      <th>min</th>\n",
       "      <td>1100.00</td>\n",
       "      <td>0.00</td>\n",
       "      <td>71644.00</td>\n",
       "      <td>349.00</td>\n",
       "      <td>1915.00</td>\n",
       "      <td>-376595.13</td>\n",
       "    </tr>\n",
       "    <tr>\n",
       "      <th>25%</th>\n",
       "      <td>7000000.00</td>\n",
       "      <td>14439985.00</td>\n",
       "      <td>25480031.00</td>\n",
       "      <td>11134983.00</td>\n",
       "      <td>1999.00</td>\n",
       "      <td>-17.16</td>\n",
       "    </tr>\n",
       "    <tr>\n",
       "      <th>50%</th>\n",
       "      <td>20000000.00</td>\n",
       "      <td>38122000.00</td>\n",
       "      <td>67348218.00</td>\n",
       "      <td>37977250.00</td>\n",
       "      <td>2006.00</td>\n",
       "      <td>51.13</td>\n",
       "    </tr>\n",
       "    <tr>\n",
       "      <th>75%</th>\n",
       "      <td>50000000.00</td>\n",
       "      <td>79366978.00</td>\n",
       "      <td>164675402.00</td>\n",
       "      <td>112886353.00</td>\n",
       "      <td>2012.00</td>\n",
       "      <td>77.57</td>\n",
       "    </tr>\n",
       "    <tr>\n",
       "      <th>max</th>\n",
       "      <td>425000000.00</td>\n",
       "      <td>936662225.00</td>\n",
       "      <td>2776345279.00</td>\n",
       "      <td>2351345279.00</td>\n",
       "      <td>2019.00</td>\n",
       "      <td>99.94</td>\n",
       "    </tr>\n",
       "  </tbody>\n",
       "</table>\n",
       "</div>"
      ],
      "text/plain": [
       "       production_budget  domestic_gross  worldwide_gross       revenue  \\\n",
       "count            3657.00         3657.00          3657.00       3657.00   \n",
       "mean         38447721.79     62587298.34     138943577.51  100495855.72   \n",
       "std          47453605.88     78270587.17     204789444.00  170733189.29   \n",
       "min              1100.00            0.00         71644.00        349.00   \n",
       "25%           7000000.00     14439985.00      25480031.00   11134983.00   \n",
       "50%          20000000.00     38122000.00      67348218.00   37977250.00   \n",
       "75%          50000000.00     79366978.00     164675402.00  112886353.00   \n",
       "max         425000000.00    936662225.00    2776345279.00 2351345279.00   \n",
       "\n",
       "         year  profit_margin  \n",
       "count 3657.00        3657.00  \n",
       "mean  2002.93        -365.17  \n",
       "std     13.81        7616.34  \n",
       "min   1915.00     -376595.13  \n",
       "25%   1999.00         -17.16  \n",
       "50%   2006.00          51.13  \n",
       "75%   2012.00          77.57  \n",
       "max   2019.00          99.94  "
      ]
     },
     "execution_count": 87,
     "metadata": {},
     "output_type": "execute_result"
    }
   ],
   "source": [
    "#a summary of measures of central and measures of dispersion.\n",
    "profitable_moviesdf.describe()"
   ]
  },
  {
   "cell_type": "markdown",
   "metadata": {},
   "source": [
    "To see what movies cost the most to produce from our dataset, the top 100 by budget were selected."
   ]
  },
  {
   "cell_type": "code",
   "execution_count": 88,
   "metadata": {},
   "outputs": [
    {
     "data": {
      "image/png": "[encoded data removed]",
      "text/plain": [
       "<Figure size 1080x576 with 1 Axes>"
      ]
     },
     "metadata": {
      "needs_background": "light"
     },
     "output_type": "display_data"
    }
   ],
   "source": [
    "#Linegrapgh comparing the annual growth in budgets and revenue\n",
    "# Mean revenue and budget for each  year\n",
    "Growth_df = profitable_moviesdf[profitable_moviesdf['year'] > 1980]\n",
    "Growth_df = Growth_df.groupby('year').mean().reset_index()\n",
    "\n",
    "plt.figure(figsize=(15, 8))\n",
    "# Plot the line graph\n",
    "plt.plot(Growth_df['year'], Growth_df['production_budget'], label='Production Budget', color = 'yellow')\n",
    "plt.plot(Growth_df['year'], Growth_df['revenue'], label='Revenue', color = 'red')\n",
    "\n",
    "plt.xlabel('Year')\n",
    "plt.ylabel('Amount in Dollars')\n",
    "plt.title('Production Budget vs. Revenue')\n",
    "plt.legend();\n",
    "\n",
    "plt.savefig('images/Production Budget vs. Revenue.jpg')\n",
    "\n",
    "plt.show()"
   ]
  },
  {
   "cell_type": "code",
   "execution_count": 89,
   "metadata": {},
   "outputs": [
    {
     "name": "stdout",
     "output_type": "stream",
     "text": [
      "correlation between budget and revenue is 0.6503\n"
     ]
    },
    {
     "data": {
      "image/png": "[encoded data removed]",
      "text/plain": [
       "<Figure size 648x576 with 1 Axes>"
      ]
     },
     "metadata": {
      "needs_background": "light"
     },
     "output_type": "display_data"
    }
   ],
   "source": [
    "#Calcuate the correlation coefficient between production budget and revenue\n",
    "correlation = profitable_moviesdf['production_budget'].corr(profitable_moviesdf['revenue'])\n",
    "correlation = round(correlation, 4)\n",
    "print(f\"correlation between budget and revenue is {correlation}\")\n",
    "\n",
    "#plot scatter plot to visualize the correlation\n",
    "plt.figure(figsize=(9, 8))\n",
    "sns.regplot(x='production_budget', y='revenue', data=profitable_moviesdf, scatter_kws={'color': 'black'}, line_kws={'color': 'yellow'})\n",
    "plt.xlabel('Production Budget')\n",
    "plt.ylabel('Revenue')\n",
    "plt.title('Correlation between Production Budget and Revenue')\n",
    "plt.grid(True)\n",
    "\n",
    "plt.savefig('images/Correlation between Production Budget and Revenue.jpg')\n",
    "\n",
    "plt.show();"
   ]
  },
  {
   "cell_type": "markdown",
   "metadata": {},
   "source": [
    "The linegraph above shows that the movie business is a lucrative one. At no point has the amount of money used in production been more that the returns gained.\n",
    "It is also important to note that the amounts have been on a general upward trend other than the revenue dip attributed to covid and should therefore be expected to rise.\n",
    "\n",
    "The scatter plot shows us that there is a positive correlation between production budget and revenue. This means that there in a tendency for movies with higher production budgets to return higher profits.\n",
    "\n",
    "Generally, the higher the production budget, the higher the revenue expected. \n",
    "\n",
    "Next we analyse the top movies by budget to see how much profit they actually made"
   ]
  },
  {
   "cell_type": "code",
   "execution_count": 90,
   "metadata": {},
   "outputs": [
    {
     "data": {
      "text/html": [
       "<div>\n",
       "<style scoped>\n",
       "    .dataframe tbody tr th:only-of-type {\n",
       "        vertical-align: middle;\n",
       "    }\n",
       "\n",
       "    .dataframe tbody tr th {\n",
       "        vertical-align: top;\n",
       "    }\n",
       "\n",
       "    .dataframe thead th {\n",
       "        text-align: right;\n",
       "    }\n",
       "</style>\n",
       "<table border=\"1\" class=\"dataframe\">\n",
       "  <thead>\n",
       "    <tr style=\"text-align: right;\">\n",
       "      <th></th>\n",
       "      <th>release_date</th>\n",
       "      <th>movie</th>\n",
       "      <th>production_budget</th>\n",
       "      <th>domestic_gross</th>\n",
       "      <th>worldwide_gross</th>\n",
       "      <th>revenue</th>\n",
       "      <th>year</th>\n",
       "      <th>profit_margin</th>\n",
       "    </tr>\n",
       "    <tr>\n",
       "      <th>id</th>\n",
       "      <th></th>\n",
       "      <th></th>\n",
       "      <th></th>\n",
       "      <th></th>\n",
       "      <th></th>\n",
       "      <th></th>\n",
       "      <th></th>\n",
       "      <th></th>\n",
       "    </tr>\n",
       "  </thead>\n",
       "  <tbody>\n",
       "    <tr>\n",
       "      <th>1</th>\n",
       "      <td>Dec 18, 2009</td>\n",
       "      <td>Avatar</td>\n",
       "      <td>425000000.00</td>\n",
       "      <td>760507625.00</td>\n",
       "      <td>2776345279.00</td>\n",
       "      <td>2351345279.00</td>\n",
       "      <td>2009</td>\n",
       "      <td>81.93</td>\n",
       "    </tr>\n",
       "    <tr>\n",
       "      <th>2</th>\n",
       "      <td>May 20, 2011</td>\n",
       "      <td>Pirates of the Caribbean: On Stranger Tides</td>\n",
       "      <td>410600000.00</td>\n",
       "      <td>241063875.00</td>\n",
       "      <td>1045663875.00</td>\n",
       "      <td>635063875.00</td>\n",
       "      <td>2011</td>\n",
       "      <td>35.35</td>\n",
       "    </tr>\n",
       "    <tr>\n",
       "      <th>4</th>\n",
       "      <td>May 1, 2015</td>\n",
       "      <td>Avengers: Age of Ultron</td>\n",
       "      <td>330600000.00</td>\n",
       "      <td>459005868.00</td>\n",
       "      <td>1403013963.00</td>\n",
       "      <td>1072413963.00</td>\n",
       "      <td>2015</td>\n",
       "      <td>69.17</td>\n",
       "    </tr>\n",
       "    <tr>\n",
       "      <th>5</th>\n",
       "      <td>Dec 15, 2017</td>\n",
       "      <td>Star Wars Ep. VIII: The Last Jedi</td>\n",
       "      <td>317000000.00</td>\n",
       "      <td>620181382.00</td>\n",
       "      <td>1316721747.00</td>\n",
       "      <td>999721747.00</td>\n",
       "      <td>2017</td>\n",
       "      <td>68.29</td>\n",
       "    </tr>\n",
       "    <tr>\n",
       "      <th>6</th>\n",
       "      <td>Dec 18, 2015</td>\n",
       "      <td>Star Wars Ep. VII: The Force Awakens</td>\n",
       "      <td>306000000.00</td>\n",
       "      <td>936662225.00</td>\n",
       "      <td>2053311220.00</td>\n",
       "      <td>1747311220.00</td>\n",
       "      <td>2015</td>\n",
       "      <td>82.49</td>\n",
       "    </tr>\n",
       "  </tbody>\n",
       "</table>\n",
       "</div>"
      ],
      "text/plain": [
       "    release_date                                        movie  \\\n",
       "id                                                              \n",
       "1   Dec 18, 2009                                       Avatar   \n",
       "2   May 20, 2011  Pirates of the Caribbean: On Stranger Tides   \n",
       "4    May 1, 2015                      Avengers: Age of Ultron   \n",
       "5   Dec 15, 2017            Star Wars Ep. VIII: The Last Jedi   \n",
       "6   Dec 18, 2015         Star Wars Ep. VII: The Force Awakens   \n",
       "\n",
       "    production_budget  domestic_gross  worldwide_gross       revenue  year  \\\n",
       "id                                                                           \n",
       "1        425000000.00    760507625.00    2776345279.00 2351345279.00  2009   \n",
       "2        410600000.00    241063875.00    1045663875.00  635063875.00  2011   \n",
       "4        330600000.00    459005868.00    1403013963.00 1072413963.00  2015   \n",
       "5        317000000.00    620181382.00    1316721747.00  999721747.00  2017   \n",
       "6        306000000.00    936662225.00    2053311220.00 1747311220.00  2015   \n",
       "\n",
       "    profit_margin  \n",
       "id                 \n",
       "1           81.93  \n",
       "2           35.35  \n",
       "4           69.17  \n",
       "5           68.29  \n",
       "6           82.49  "
      ]
     },
     "execution_count": 90,
     "metadata": {},
     "output_type": "execute_result"
    }
   ],
   "source": [
    "#Select top 100 movies by budget\n",
    "top_100_movies = profitable_moviesdf.nlargest(100, 'production_budget')\n",
    "top_100_movies.head()"
   ]
  },
  {
   "cell_type": "code",
   "execution_count": 91,
   "metadata": {
    "scrolled": true
   },
   "outputs": [
    {
     "data": {
      "image/png": "[encoded data removed]",
      "text/plain": [
       "<Figure size 504x432 with 1 Axes>"
      ]
     },
     "metadata": {
      "needs_background": "light"
     },
     "output_type": "display_data"
    }
   ],
   "source": [
    "#Top 20 most profitable movies\n",
    "#Sort the data by revenue\n",
    "top_100_movies.sort_values(by='revenue', ascending=False, inplace = True)\n",
    "\n",
    "#Select top15 most profitable movies from the most  to produce\n",
    "Top_20 = top_100_movies.nlargest(20, 'revenue')\n",
    "\n",
    "#Select data for bargraph\n",
    "top_revenue = Top_20['revenue']\n",
    "top_titles = Top_20['movie'].tolist()\n",
    "\n",
    "fig,ax = plt.subplots(figsize=(7,6))\n",
    "\n",
    "#Plot ghraph with pyplot\n",
    "ax.barh(top_titles, top_revenue, color='yellowgreen')\n",
    "\n",
    "ax.set_xlabel('Revenue in millions')\n",
    "ax.set_ylabel('Top 20 Movie titles')\n",
    "ax.set_title('Top 20 Movies by Revenue')\n",
    "\n",
    "plt.savefig('images/Top 20 Movies by Revenue.jpg')\n",
    "\n",
    "plt.show()"
   ]
  },
  {
   "cell_type": "markdown",
   "metadata": {},
   "source": [
    "From this we note that the most expensive movie to produce from our dataset was Avatar. Next I compared the producton budgets of these movies to their profits"
   ]
  },
  {
   "cell_type": "code",
   "execution_count": 92,
   "metadata": {
    "scrolled": true
   },
   "outputs": [
    {
     "data": {
      "image/png": "[encoded data removed]",
      "text/plain": [
       "<Figure size 1080x720 with 1 Axes>"
      ]
     },
     "metadata": {
      "needs_background": "light"
     },
     "output_type": "display_data"
    }
   ],
   "source": [
    "# Plot multiple column bargraph \n",
    "plt.figure(figsize=(15, 10))\n",
    "sns.barplot(x=Top_20['movie'], y=Top_20['production_budget'], color='darkgrey', label='Production Budget', ci=None)\n",
    "sns.barplot(x=Top_20['movie'], y=Top_20['revenue'], color='forestgreen', label='Revenue', ci=None, bottom=Top_20['production_budget'])\n",
    "\n",
    "# Customize the plot\n",
    "plt.xticks(rotation=90, horizontalalignment='right')\n",
    "plt.xlabel('Movie Titles', fontsize=12)\n",
    "plt.ylabel('Amount (Millions of Dollars)', fontsize=12)\n",
    "plt.title('Production Budget and Revenue for Top 20 Movies', fontsize=14)\n",
    "plt.legend(fontsize=12)\n",
    "\n",
    "plt.savefig('images/Production Budget and Revenue for Top 20 Movies.jpg')\n",
    "\n",
    "plt.show()"
   ]
  },
  {
   "cell_type": "code",
   "execution_count": 93,
   "metadata": {},
   "outputs": [
    {
     "name": "stdout",
     "output_type": "stream",
     "text": [
      "Microsoft should expect to spend about 239430000.0 dollars on average so as to get a profit margin of 79.34.\n"
     ]
    }
   ],
   "source": [
    "#Average profit margin for the most expensive movies\n",
    "Avg_pm = Top_20['profit_margin'].mean()\n",
    "Avg_pm = round(Avg_pm, 2)\n",
    "#Average budget for the most expensive movies\n",
    "Avg_bdgt = Top_20['production_budget'].mean()\n",
    "Avg_bdgt = round(Avg_bdgt, 0)\n",
    "\n",
    "findings = f\"Microsoft should expect to spend about {Avg_bdgt} dollars on average so as to get a profit margin of {Avg_pm}.\"\n",
    "print(findings)"
   ]
  },
  {
   "cell_type": "markdown",
   "metadata": {},
   "source": [
    "From the analysis of budgets and revenue we have noted that:\n",
    "\n",
    "   1. The higher the budget the more likely profit will be high as well. A comparison of the movies revealed that those with a high production budget returned high profits. microsoft should be ready to invest well into the production of their movies to produce top content.\n",
    "   \n",
    "    \n",
    "   2. Production budgets of movies have been on a steady rise over the years therefore Micrsofts planning should include futureforcasts for expenses and profits\n",
    "    "
   ]
  },
  {
   "cell_type": "markdown",
   "metadata": {},
   "source": [
    "### What types of movies?"
   ]
  },
  {
   "cell_type": "markdown",
   "metadata": {},
   "source": [
    "The second question we want to answer is what kind of movies should the Microsoft Movie Studio be keen on tackling so as to penetrate the market and achieve maximum results.\n",
    "To do this I tackled 3 areas.\n",
    "1. Most popular genres\n",
    "2. Genres with highest ratings\n",
    "3. Average runtime for movies"
   ]
  },
  {
   "cell_type": "code",
   "execution_count": 96,
   "metadata": {},
   "outputs": [
    {
     "data": {
      "image/png": "[encoded data removed]",
      "text/plain": [
       "<Figure size 864x504 with 1 Axes>"
      ]
     },
     "metadata": {
      "needs_background": "light"
     },
     "output_type": "display_data"
    }
   ],
   "source": [
    "#Evaluate the genres_df to find the genres that are most popular\n",
    "# all_genres = genres_df.iloc[:, 5:]\n",
    "\n",
    "#Get names of all genres\n",
    "# genre_names = all_genres.columns.tolist()\n",
    "\n",
    "#Obtain the sum of genres\n",
    "sum_of_genres = genres_df.iloc[:, 5:].sum()\n",
    "sum_of_genres_sorted = sum_of_genres.sort_values(ascending=False)\n",
    "\n",
    "genres_data = pd.DataFrame({'Titles': sum_of_genres_sorted.index, 'Values': sum_of_genres_sorted.values})\n",
    "Values = genres_data['Values']\n",
    "Titles = genres_data['Titles']\n",
    "\n",
    "#Set the figure size\n",
    "fig,ax = plt.subplots(figsize=(12, 7))\n",
    "\n",
    "#Plot bar grapgh with sns\n",
    "sns.barplot(x=Values, y=Titles , orient='h', palette='magma')\n",
    "\n",
    "ax.set_xlabel('Frequency of occurence')\n",
    "ax.set_ylabel('Genres')\n",
    "ax.set_title('Genres with Highest Number of Movies')\n",
    "\n",
    "plt.savefig('images/Genres with Highest Number of Movies.jpg')\n",
    "\n",
    "plt.show()"
   ]
  },
  {
   "cell_type": "markdown",
   "metadata": {},
   "source": [
    "From the plot above it was noted that the most popular genres from the data analysed is Drama. Other genres like Comedy, Documentary, Thriller and action are also popular but not as much.\n",
    "It is however important to note that most movies tend to have more than one genre therefore it is important that a movie have the right mix of genres for it to be good.\n",
    "\n",
    "I further analysed the genres by average ratings using the ratings_basics dataframe"
   ]
  },
  {
   "cell_type": "code",
   "execution_count": 98,
   "metadata": {},
   "outputs": [],
   "source": [
    "#Create a copy of ratings_basics_df\n",
    "genres_by_ratings = ratings_basics_df.copy()\n",
    "\n",
    "#Split the genres column into individual genres\n",
    "genres_by_ratings['genres'] = genres_by_ratings['genres'].str.split(',').tolist()\n",
    "genres_by_ratings = genres_by_ratings.explode('genres')\n",
    "\n",
    "#Drop other columns\n",
    "genres_by_ratings.drop(columns=['original_title','runtime_minutes', 'tconst','start_year', 'numvotes'], inplace=True)"
   ]
  },
  {
   "cell_type": "code",
   "execution_count": 101,
   "metadata": {},
   "outputs": [
    {
     "data": {
      "image/png": "[encoded data removed]",
      "text/plain": [
       "<Figure size 720x504 with 1 Axes>"
      ]
     },
     "metadata": {
      "needs_background": "light"
     },
     "output_type": "display_data"
    }
   ],
   "source": [
    "#Group genres by average rating\n",
    "genre_mean_rating = genres_by_ratings.groupby('genres')['averagerating'].mean().reset_index()\n",
    "genre_mean_rating = genre_mean_rating.sort_values(by='averagerating', ascending=False)\n",
    "\n",
    "#Select the genres to be plotted.\n",
    "common_genres = ['Action','Drama', 'Comedy', 'Documentary', 'Thriller', 'Romance', 'Horror', 'Romance', 'Adventure', 'Crime']\n",
    "\n",
    "#Filter data\n",
    "data = genre_mean_rating[genre_mean_rating['genres'].isin(common_genres)]\n",
    "\n",
    "#Set the figure size\n",
    "fig,ax = plt.subplots(figsize=(10, 7))\n",
    "\n",
    "#Plot bar graph with sns\n",
    "sns.barplot(x='genres', y='averagerating' , data =data, palette='crest_r')\n",
    "\n",
    "ax.set_xlabel('Genres')\n",
    "ax.set_ylabel('Average Rating')\n",
    "ax.set_title('Genre Popularity by Ratings')\n",
    "plt.xticks(rotation=45)         \n",
    "\n",
    "plt.savefig('images/Genre Popularity by Ratings.jpg')\n",
    "\n",
    "plt.show();"
   ]
  },
  {
   "cell_type": "markdown",
   "metadata": {},
   "source": [
    "From this it was noted that the most popolar genres and those that resulted in highest returns are quite similar. The genre that resulted in highest returns was Action followed cosely by Adventure then Sci-Fi, Thriller and Animation.\n",
    "\n",
    "When it comes to popularity by ratings Documentary, Drama, Romance were top."
   ]
  },
  {
   "cell_type": "markdown",
   "metadata": {},
   "source": [
    "##### How long should the movies be?\n",
    "To determine the average runtime for movies descriptive statistics was used on the movie runtimes from the Rotten Tomatoes dataset"
   ]
  },
  {
   "cell_type": "code",
   "execution_count": 102,
   "metadata": {},
   "outputs": [
    {
     "data": {
      "image/png": "[encoded data removed]",
      "text/plain": [
       "<Figure size 720x504 with 1 Axes>"
      ]
     },
     "metadata": {
      "needs_background": "light"
     },
     "output_type": "display_data"
    }
   ],
   "source": [
    "#Calculate the median runtime\n",
    "median_runtime = movie_runtimes['runtime'].median()\n",
    "\n",
    "# Plot a histogram for runtime\n",
    "plt.figure(figsize=(10, 7))\n",
    "plt.hist(movie_runtimes['runtime'], bins=15, color='darkgreen', edgecolor='black')\n",
    "\n",
    "plt.axvline(median_runtime, color='orange', linestyle='dashed', linewidth=2)\n",
    "plt.xlabel('Runtime')\n",
    "plt.ylabel('Frequency')\n",
    "plt.title('Histogram Showing Runtime Distribution')\n",
    "\n",
    "plt.savefig('images/Histogram Showing Runtime Distribution.jpg')\n",
    "\n",
    "plt.show()"
   ]
  },
  {
   "cell_type": "code",
   "execution_count": 103,
   "metadata": {},
   "outputs": [
    {
     "data": {
      "text/plain": [
       "count   1560.00\n",
       "mean     103.89\n",
       "std       24.41\n",
       "min        5.00\n",
       "25%       91.00\n",
       "50%      100.00\n",
       "75%      114.00\n",
       "max      358.00\n",
       "Name: runtime, dtype: float64"
      ]
     },
     "execution_count": 103,
     "metadata": {},
     "output_type": "execute_result"
    }
   ],
   "source": [
    "movie_runtimes['runtime'].describe()"
   ]
  },
  {
   "cell_type": "markdown",
   "metadata": {},
   "source": [
    "Most movies are about 100 minutes long. I would recommend that Microsoft not have movie runtimes of between 90 - 150 minutes. Further analysis would need to be carried out to determine the best runtimes per movie genre"
   ]
  },
  {
   "cell_type": "markdown",
   "metadata": {},
   "source": [
    "### 3. Competition and collaborators\n",
    "In any business t is important to know who your competition is and who best to work with.\n",
    "For this section I used the Imdb Dataset to determine which directors had the best ratings on their movies. Movie directors, producers and writers are part of the key items that ensure that a movie studio and its movies are successful.\n",
    "The same data set was also used to map out the studios that are performing well in terms of movie quantities and movie ratings"
   ]
  },
  {
   "cell_type": "code",
   "execution_count": 104,
   "metadata": {},
   "outputs": [
    {
     "name": "stdout",
     "output_type": "stream",
     "text": [
      "The top 10 directors that Miscrosoft may consider working with are ['Chad Carpenter', 'Loreto Di Cesare', 'Tristan David Luciotti', 'Lindsay Thompson', 'Hamid Benamra', 'Todd Howe', 'Bill Suchy', 'J.M. Berrios', 'Steve Wystrach', 'Tobias Frindt']\n"
     ]
    }
   ],
   "source": [
    "#Obtain list of top 10 directors by average ratings\n",
    "top_10_directors=top_directors.nlargest(10, columns = 'averagerating')\n",
    "top_10_directors = top_10_directors['primary_name'].tolist()\n",
    "print(f\"The top 10 directors that Miscrosoft may consider working with are {top_10_directors}\")"
   ]
  },
  {
   "cell_type": "markdown",
   "metadata": {},
   "source": [
    "Below is a scatter plot with annotations for the best 5 out of the 10"
   ]
  },
  {
   "cell_type": "code",
   "execution_count": 105,
   "metadata": {},
   "outputs": [
    {
     "data": {
      "image/png": "[encoded data removed]",
      "text/plain": [
       "<Figure size 720x576 with 1 Axes>"
      ]
     },
     "metadata": {
      "needs_background": "light"
     },
     "output_type": "display_data"
    }
   ],
   "source": [
    "top_5_directors = top_directors.nlargest(6, columns = 'averagerating')\n",
    "# Set the figure size\n",
    "plt.figure(figsize=(10, 8))\n",
    "\n",
    "# Plot the scatter plot\n",
    "plt.scatter(x=top_5_directors['averagerating'], y=top_5_directors['numvotes'], color='blue')\n",
    "\n",
    "# Add text labels for each data point\n",
    "for i, name in enumerate(top_5_directors['primary_name']):\n",
    "    plt.annotate(name, (top_5_directors['averagerating'][i], top_5_directors['numvotes'][i]), xytext=(10, -1), textcoords='offset points',\n",
    "                 fontsize=9, ha='left', va='bottom')\n",
    "# Set labels and title\n",
    "plt.xlabel('Average Rating')\n",
    "plt.ylabel('Number of votes')\n",
    "plt.title('Top 5 directors')\n",
    "\n",
    "# Set the y-axis limits to create more space\n",
    "plt.ylim(0, top_5_directors['numvotes'].max() * 1.2)  # Adjust the multiplier as needed\n",
    "\n",
    "\n",
    "# Show the plot\n",
    "plt.grid(True)\n",
    "\n",
    "plt.savefig('images/Top 5 directors.jpg')\n",
    "\n",
    "plt.show();"
   ]
  },
  {
   "cell_type": "markdown",
   "metadata": {},
   "source": [
    "Final step was to identify the studios that are doing well in terms of box office performance and ratings"
   ]
  },
  {
   "cell_type": "code",
   "execution_count": 106,
   "metadata": {},
   "outputs": [
    {
     "data": {
      "text/html": [
       "<div>\n",
       "<style scoped>\n",
       "    .dataframe tbody tr th:only-of-type {\n",
       "        vertical-align: middle;\n",
       "    }\n",
       "\n",
       "    .dataframe tbody tr th {\n",
       "        vertical-align: top;\n",
       "    }\n",
       "\n",
       "    .dataframe thead th {\n",
       "        text-align: right;\n",
       "    }\n",
       "</style>\n",
       "<table border=\"1\" class=\"dataframe\">\n",
       "  <thead>\n",
       "    <tr style=\"text-align: right;\">\n",
       "      <th></th>\n",
       "      <th>studio_name</th>\n",
       "      <th>box_office</th>\n",
       "    </tr>\n",
       "  </thead>\n",
       "  <tbody>\n",
       "    <tr>\n",
       "      <th>95</th>\n",
       "      <td>Universal Pictures</td>\n",
       "      <td>2144510458.00</td>\n",
       "    </tr>\n",
       "    <tr>\n",
       "      <th>64</th>\n",
       "      <td>Paramount Global</td>\n",
       "      <td>1151360104.00</td>\n",
       "    </tr>\n",
       "    <tr>\n",
       "      <th>102</th>\n",
       "      <td>Warner Bros.</td>\n",
       "      <td>1137398282.00</td>\n",
       "    </tr>\n",
       "    <tr>\n",
       "      <th>76</th>\n",
       "      <td>Sony Pictures</td>\n",
       "      <td>1102785872.00</td>\n",
       "    </tr>\n",
       "    <tr>\n",
       "      <th>0</th>\n",
       "      <td>20th Century Fox</td>\n",
       "      <td>1094656144.00</td>\n",
       "    </tr>\n",
       "    <tr>\n",
       "      <th>15</th>\n",
       "      <td>Columbia Pictures</td>\n",
       "      <td>534351307.00</td>\n",
       "    </tr>\n",
       "    <tr>\n",
       "      <th>101</th>\n",
       "      <td>Walt Disney Pictures</td>\n",
       "      <td>527069599.00</td>\n",
       "    </tr>\n",
       "    <tr>\n",
       "      <th>52</th>\n",
       "      <td>MGM</td>\n",
       "      <td>413329948.00</td>\n",
       "    </tr>\n",
       "    <tr>\n",
       "      <th>58</th>\n",
       "      <td>Newmarket Film Group</td>\n",
       "      <td>402187787.00</td>\n",
       "    </tr>\n",
       "    <tr>\n",
       "      <th>42</th>\n",
       "      <td>IMAX</td>\n",
       "      <td>257704099.00</td>\n",
       "    </tr>\n",
       "    <tr>\n",
       "      <th>47</th>\n",
       "      <td>Lions Gate Films</td>\n",
       "      <td>245609231.00</td>\n",
       "    </tr>\n",
       "    <tr>\n",
       "      <th>40</th>\n",
       "      <td>IFC Films</td>\n",
       "      <td>244947188.00</td>\n",
       "    </tr>\n",
       "    <tr>\n",
       "      <th>79</th>\n",
       "      <td>Sony Pictures/Columbia Pictures</td>\n",
       "      <td>218180602.00</td>\n",
       "    </tr>\n",
       "    <tr>\n",
       "      <th>57</th>\n",
       "      <td>New Line Cinema</td>\n",
       "      <td>196115915.00</td>\n",
       "    </tr>\n",
       "    <tr>\n",
       "      <th>85</th>\n",
       "      <td>The Weinstein Company</td>\n",
       "      <td>185337748.00</td>\n",
       "    </tr>\n",
       "  </tbody>\n",
       "</table>\n",
       "</div>"
      ],
      "text/plain": [
       "                         studio_name    box_office\n",
       "95                Universal Pictures 2144510458.00\n",
       "64                  Paramount Global 1151360104.00\n",
       "102                     Warner Bros. 1137398282.00\n",
       "76                     Sony Pictures 1102785872.00\n",
       "0                   20th Century Fox 1094656144.00\n",
       "15                 Columbia Pictures  534351307.00\n",
       "101             Walt Disney Pictures  527069599.00\n",
       "52                               MGM  413329948.00\n",
       "58              Newmarket Film Group  402187787.00\n",
       "42                              IMAX  257704099.00\n",
       "47                  Lions Gate Films  245609231.00\n",
       "40                         IFC Films  244947188.00\n",
       "79   Sony Pictures/Columbia Pictures  218180602.00\n",
       "57                   New Line Cinema  196115915.00\n",
       "85             The Weinstein Company  185337748.00"
      ]
     },
     "execution_count": 106,
     "metadata": {},
     "output_type": "execute_result"
    }
   ],
   "source": [
    "#Filter data by fresh_rating\n",
    "studios_rating = studios.groupby('studio_name')['fresh_rating'].sum().reset_index()\n",
    "\n",
    "#Sort values by 'fresh_rating' in descending order and select top 15 studios\n",
    "studios_rating = studios_rating.nlargest(15, columns = 'fresh_rating').sort_values(by= 'fresh_rating', ascending = False)\n",
    "\n",
    "#Filter by box_office performance\n",
    "studios_box = studios.groupby('studio_name')['box_office'].sum().reset_index()\n",
    "\n",
    "#Sort values by 'box_office' in descending order and select top 15 studios\n",
    "studios_box = studios_box.nlargest(15, columns='box_office').sort_values(by= 'box_office', ascending = False)\n",
    "studios_box\n"
   ]
  },
  {
   "cell_type": "code",
   "execution_count": 108,
   "metadata": {},
   "outputs": [
    {
     "data": {
      "image/png": "[encoded data removed]",
      "text/plain": [
       "<Figure size 1008x576 with 2 Axes>"
      ]
     },
     "metadata": {
      "needs_background": "light"
     },
     "output_type": "display_data"
    }
   ],
   "source": [
    "# Create bar plot for top 10 studios by both rating and box office performance\n",
    "#Set the figure size\n",
    "fig,(ax1, ax2) = plt.subplots(1, 2, figsize=(14, 8))\n",
    "\n",
    "#Plot studios_rating \n",
    "sns.barplot(x='studio_name', y='fresh_rating' , data =studios_rating, ax=ax1, palette='viridis', edgecolor = 'black')\n",
    "ax1.set_title('Best studios by Fresh Rating')\n",
    "ax1.set_xlabel('Studio Names')\n",
    "ax1.set_ylabel('Fresh Rating')\n",
    "\n",
    "                  \n",
    "#Plot studios_box \n",
    "sns.barplot(x='studio_name', y='box_office' , data =studios_box, ax=ax2, palette='viridis', edgecolor = 'black')\n",
    "ax2.set_title('Best studios by Box office Performance')\n",
    "ax2.set_xlabel('Studio Names')\n",
    "ax2.set_ylabel('Box Office Performance in Millions of Dollars')\n",
    "\n",
    "#Rotate x-axis\n",
    "ax1.set_xticklabels(studios_rating['studio_name'], rotation=45, ha='right')  # Adjust x-axis labels rotation and alignment\n",
    "ax2.set_xticklabels(studios_box['studio_name'], rotation=45, ha='right')  # Adjust x-axis labels rotation and alignment\n",
    "\n",
    "\n",
    "plt.tight_layout()\n",
    "\n",
    "\n",
    "plt.savefig('images/Studio Ratings.png')\n",
    "\n",
    "\n",
    "plt.show();"
   ]
  },
  {
   "cell_type": "markdown",
   "metadata": {},
   "source": [
    "From this analysis we can see that there are several directors Microsoft can collaborate wth to ensure that they produce some of the best content that will enable them compete with other movie studios.\n",
    "We have also noted that to compete with some of the top studios Microsoft needs to aim for an average RT rating of 10. We have also identified some of the studios to look out for."
   ]
  },
  {
   "cell_type": "markdown",
   "metadata": {},
   "source": [
    "## Conclusions\n",
    "\n",
    "This analysis leads to three recommendations for Microsoft' entry in the film industry:\n",
    "\n",
    " ***1. Allocate substantial funds for high quality productions***\n",
    " \n",
    "To maximize profitability, Microsoft should consider making significant investments in ts film projects. A larger budget allows \n",
    "for the creation of superior films that can attract a wider audience and generate higher returns\n",
    "\n",
    "     \n",
    " ***2. Produce movies within Drama, Action, Comedy, Thriller and Documentary genres***\n",
    "  \n",
    "This is because from the nalysis we saw that these genres are the most popular. Microsoft also needs to ensure that the movies they produce have a runtime in the 90 - 100 minute range as this is what viewers prefer.\n",
    "     \n",
    " ***3. Work with the best in the industry and observe competition***\n",
    " \n",
    "There are several directors Microsoft can collaborate wth to ensure that they produce some of the best content that will enable them compete with other movie studios. We have also noted that to compete with some of the top studios Microsoft needs to aim for an average RT rating of 10. We have also identified some of the studios to look out for\n",
    "   \n",
    "There is need for further analysis to provide even more insight on the Movie industry. Areas such as offering streaming services is an example of a key area that needs looking into to ensure that Microsoft gets into the industry armed with the best info.\n",
    "\n",
    "***"
   ]
  },
  {
   "cell_type": "code",
   "execution_count": null,
   "metadata": {},
   "outputs": [],
   "source": []
  },
  {
   "cell_type": "code",
   "execution_count": null,
   "metadata": {},
   "outputs": [],
   "source": []
  }
 ],
 "metadata": {
  "kernelspec": {
   "display_name": "Python 3",
   "language": "python",
   "name": "python3"
  },
  "language_info": {
   "codemirror_mode": {
    "name": "ipython",
    "version": 3
   },
   "file_extension": ".py",
   "mimetype": "text/x-python",
   "name": "python",
   "nbconvert_exporter": "python",
   "pygments_lexer": "ipython3",
   "version": "3.8.5"
  }
 },
 "nbformat": 4,
 "nbformat_minor": 2
}
